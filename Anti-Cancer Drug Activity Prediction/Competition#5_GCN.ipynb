{
  "cells": [
    {
      "cell_type": "markdown",
      "source": [
        "\n",
        "\n",
        "<h1 align=\"center\"> Anti-Cancer Drug Activity Prediction </h1>\n",
        "<h2 align=\"center\"> competition #5 </h2>\n",
        "\n",
        "\n",
        "---\n",
        "\n",
        "\n",
        "\n",
        "---\n",
        "\n",
        "\n",
        "# **Name:**  Sandra Girgis\n",
        "# **ID:** 20399121"
      ],
      "metadata": {
        "id": "fQxS_rm6Pc-I"
      }
    },
    {
      "cell_type": "markdown",
      "source": [
        "# ⭐ Problem Statement\n",
        "\n",
        "☘️ Anti-Cancer Drug Activity Prediction is a task in the field of drug discovery that involves predicting the effectiveness of a given compound in inhibiting the growth of cancer cells or inducing cancer cell death. The problem statement of this task is to develop a machine learning model that can accurately predict the activity of new compounds against a specific type of cancer or multiple types of cancer.\n",
        "\n",
        "\n",
        "👉🏻 So, **The problem statement** and the goal of Anti-Cancer Drug Activity Prediction is to identify promising drug candidates that can be further developed and tested in preclinical and clinical trials, ultimately leading to the discovery of new cancer therapies. Accurate prediction of drug activity can save time and resources in the drug discovery process by allowing researchers to focus on the most promising candidates and avoid less effective or toxic compounds."
      ],
      "metadata": {
        "id": "lomX_b1AOQ9C"
      }
    },
    {
      "cell_type": "markdown",
      "source": [
        "### ⭐ The input of the project:\n",
        "👉🏻 A large set of chemical compounds, represented by their molecular structures and various features or descriptors, such as physicochemical properties, functional groups, and substructures.\n",
        "\n",
        "\n",
        "\n",
        "### ⭐ The output of the project:\n",
        "👉🏻 The predicted activity score or label for each compound, indicating its potential effectiveness in treating cancer.\n",
        "\n"
      ],
      "metadata": {
        "id": "fpx5tefkOUBn"
      }
    },
    {
      "cell_type": "markdown",
      "source": [
        "\n",
        "### ⭐ The required data mining functions of the project:\n",
        " \n",
        "🔥 Participants are required to build a Graph Convolutional Network **(GCN)** model to predict the activity of different compounds against a specific type of cancer or multiple types of cancer. The input to the model consists of a large set of chemical compounds, represented by their molecular structures and various features or descriptors. The output is a predicted activity score or label for each compound, indicating its potential effectiveness in treating cancer.\n",
        "\n",
        "🔥 Using some of **message passing** mechanisms such as **GGNN, RGCN, RGAT, GNN-FILM**\n",
        "\n",
        "🔥 **Classification** is a common data mining function that involves predicting the class or category of a given data point based on its features or attributes. In this case, the goal is to classify compounds as active or inactive against cancer cells based on their molecular features, which is a typical use case for classification in data mining.\n",
        "\n",
        "\n"
      ],
      "metadata": {
        "id": "JyOEjVNMOUE3"
      }
    },
    {
      "cell_type": "markdown",
      "source": [
        "##⭐ **The impact of this project an be significant in several ways:** \n",
        "🔥 Accelerating drug discovery: The traditional drug discovery process can be very time-consuming and expensive, with high failure rates. By accurately predicting the activity of different compounds against cancer cells, the Anti-Cancer Drug Activity Prediction task can help accelerate the drug discovery process by identifying promising drug candidates early in the process, potentially reducing the time and resources required for drug development.\n",
        "\n",
        "🔥 Reducing animal testing: The Anti-Cancer Drug Activity Prediction task can also help reduce the need for animal testing in drug development, which can be expensive and time-consuming, as well as controversial from an ethical standpoint.\n",
        "\n",
        "🔥 Advancing machine learning techniques: The development of machine learning models for drug discovery can help advance the field of machine learning and artificial intelligence, as well as the broader field of data science.\n",
        "\n",
        "</br>\n",
        "</br>\n",
        "\n",
        "<p align = \"center\"> So let's work on the data that we have to see what this problem leads us to do and what is the accurate solution....😃</p>"
      ],
      "metadata": {
        "id": "QxjQ1AaEOUIj"
      }
    },
    {
      "cell_type": "markdown",
      "source": [
        "# Part I) Preparing Data"
      ],
      "metadata": {
        "id": "v42_bco6bPZL"
      }
    },
    {
      "cell_type": "markdown",
      "metadata": {
        "id": "MrEQ0WAyKQmE"
      },
      "source": [
        "## I.I) Read SDF format data (structured-data format)"
      ]
    },
    {
      "cell_type": "code",
      "execution_count": 19,
      "metadata": {
        "id": "PPo4VsuJKQmJ"
      },
      "outputs": [],
      "source": [
        "import numpy as np\n",
        "from tqdm.notebook import tqdm\n",
        "\n",
        "def read_sdf(file):\n",
        "    with open(file, 'r') as rf:\n",
        "        content = rf.read()\n",
        "    samples = content.split('$$$$')\n",
        "    \n",
        "    def parse_sample(s):\n",
        "        lines = s.splitlines()\n",
        "        links = []\n",
        "        nodes = []\n",
        "        label = 0\n",
        "        for l in lines:\n",
        "            if l.strip() == '1.0':\n",
        "                label = 1\n",
        "            if l.strip() == '-1.0':\n",
        "                label = 0\n",
        "            if l.startswith('    '):\n",
        "                feature = l.split()\n",
        "                node = feature[3]\n",
        "                nodes.append(node)\n",
        "            elif l.startswith(' '):\n",
        "                lnk = l.split()\n",
        "                # edge: (from, to,) (1-based index)\n",
        "                if int(lnk[0]) - 1 < len(nodes):\n",
        "                    links.append((\n",
        "                        int(lnk[0])-1, \n",
        "                        int(lnk[1])-1, # zero-based index\n",
        "                        # int(lnk[2]) ignore edge weight\n",
        "                    ))\n",
        "        return nodes, np.array(links), label\n",
        "    \n",
        "    return [parse_sample(s) for s in tqdm(samples) if len(s[0]) > 0]\n",
        "                \n",
        "        \n",
        "        "
      ]
    },
    {
      "cell_type": "code",
      "execution_count": 2,
      "metadata": {
        "id": "7aM0zH66KQmK"
      },
      "outputs": [],
      "source": [
        "# training_set = read_sdf('/content/train.sdf')"
      ]
    },
    {
      "cell_type": "markdown",
      "source": [
        "## I.II) Oversample Impalanced Data"
      ],
      "metadata": {
        "id": "vWxdAZqoPcs2"
      }
    },
    {
      "cell_type": "code",
      "source": [
        "from collections import Counter\n",
        "from imblearn.over_sampling import RandomOverSampler\n",
        "\n",
        "\n",
        "training_set = np.array(read_sdf('/content/train.sdf'),dtype=object)\n",
        "\n",
        "\n",
        "#save input features to variable\n",
        "input = training_set[:,0:-1]\n",
        "#save output features to another variable\n",
        "output = training_set[:,-1]\n",
        "#convert the data type of output feature to integer\n",
        "output = output.astype('int8')\n",
        "print(output)\n",
        "#count the number of 0 and 1 in this data set\n",
        "print(Counter(output))\n",
        "\n",
        "#start random over sampling by increase the samples that has labels of 1\n",
        "oversample = RandomOverSampler(sampling_strategy='minority')\n",
        "input,output = oversample.fit_resample(input,output)\n",
        "\n",
        "#reshape the output\n",
        "output = output.reshape(len(output),1)\n",
        "\n",
        "#concate the input with output to the training dataset\n",
        "training_set = np.append(input, output, axis=1)\n",
        "print(Counter(training_set[:,-1]))"
      ],
      "metadata": {
        "colab": {
          "base_uri": "https://localhost:8080/",
          "height": 101,
          "referenced_widgets": [
            "e620726b373148f6b863427b442c9372",
            "773718cd7f3e43dd8ebde3db693a6e8c",
            "59566e40bfa24ddc966b04664bca466f",
            "36ae55c76d0e4c0fb5d0995dfd511c78",
            "eb4c719e5a374af580ada7148bd6280b",
            "a6f629b6b1f24fe08fc653a87e934aaa",
            "b3ede5c0c1cc4af0871f4bbb24adc067",
            "59c1fcf79285449c87c679a2be58269e",
            "7d9112d90fdf42f290b57daae0f17125",
            "70bc67da8f6649ea93801407f33108b0",
            "0da7d776d30f463bb6315322b8a1f95d"
          ]
        },
        "id": "MH4ClF38WAOH",
        "outputId": "ac2d8c7d-84a7-4b49-99e3-e23c28c0c103"
      },
      "execution_count": 3,
      "outputs": [
        {
          "output_type": "display_data",
          "data": {
            "text/plain": [
              "  0%|          | 0/25024 [00:00<?, ?it/s]"
            ],
            "application/vnd.jupyter.widget-view+json": {
              "version_major": 2,
              "version_minor": 0,
              "model_id": "e620726b373148f6b863427b442c9372"
            }
          },
          "metadata": {}
        },
        {
          "output_type": "stream",
          "name": "stdout",
          "text": [
            "[0 0 0 ... 0 0 0]\n",
            "Counter({0: 23806, 1: 1218})\n",
            "Counter({0: 23806, 1: 23806})\n"
          ]
        }
      ]
    },
    {
      "cell_type": "code",
      "source": [
        "from sklearn.model_selection import train_test_split\n",
        "#split the training dataset to training and validation dataset\n",
        "training_set, validation_set = train_test_split(training_set, test_size=0.15,stratify = training_set[:,-1],)\n",
        "print(training_set.shape)"
      ],
      "metadata": {
        "colab": {
          "base_uri": "https://localhost:8080/"
        },
        "id": "VJ92W3avUXWk",
        "outputId": "d504a61b-3aff-4375-861e-20a48b9bcf16"
      },
      "execution_count": 4,
      "outputs": [
        {
          "output_type": "stream",
          "name": "stdout",
          "text": [
            "(40470, 3)\n"
          ]
        }
      ]
    },
    {
      "cell_type": "code",
      "execution_count": 5,
      "metadata": {
        "colab": {
          "base_uri": "https://localhost:8080/",
          "height": 66,
          "referenced_widgets": [
            "c0cf1edb637e41a8a64b01387df97e72",
            "c96331b19ca74601bd4ed5da7a6b2470",
            "e42ed47c731c4468ad1901b5ab55516a",
            "468cf41a5fd14ebcacbeefdd9e1092a1",
            "a49950fc9aa84515aa377d7827121087",
            "2a4152273ba149738b16897685eb210a",
            "a627bbb02d7c4bec876e6e364d1080e3",
            "612fa904a5af4bcd8c34f94b1c77b031",
            "5478d527440f49c7aadd933ca252c3d2",
            "91fbdb41e9cf4bdebc92d10032f96d86",
            "570fd41511b044739a893c150560d91a"
          ]
        },
        "id": "2bAKUyxCKQmL",
        "outputId": "48a55d86-420e-4682-b38d-126361a65241"
      },
      "outputs": [
        {
          "output_type": "display_data",
          "data": {
            "text/plain": [
              "  0%|          | 0/12326 [00:00<?, ?it/s]"
            ],
            "application/vnd.jupyter.widget-view+json": {
              "version_major": 2,
              "version_minor": 0,
              "model_id": "c0cf1edb637e41a8a64b01387df97e72"
            }
          },
          "metadata": {}
        },
        {
          "output_type": "stream",
          "name": "stdout",
          "text": [
            "12326\n"
          ]
        }
      ],
      "source": [
        "testing_set  = read_sdf('/content/test_x.sdf')\n",
        "print(len(testing_set))"
      ]
    },
    {
      "cell_type": "code",
      "execution_count": 6,
      "metadata": {
        "colab": {
          "base_uri": "https://localhost:8080/"
        },
        "id": "Hz-ARKmDKQmL",
        "outputId": "89ad09d0-7bf0-4347-c8c5-85228904055b"
      },
      "outputs": [
        {
          "output_type": "stream",
          "name": "stdout",
          "text": [
            "[list(['Cl', 'N', 'C', 'C', 'C', 'C', 'C', 'C', 'C', 'C', 'C', 'C', 'C', 'C', 'C', 'C', 'C', 'C', 'C'])\n",
            " array([[ 0, 12],\n",
            "        [ 1,  4],\n",
            "        [ 1, 11],\n",
            "        [ 2,  3],\n",
            "        [ 2,  4],\n",
            "        [ 2,  6],\n",
            "        [ 3,  5],\n",
            "        [ 3,  7],\n",
            "        [ 4,  9],\n",
            "        [ 5, 10],\n",
            "        [ 6, 13],\n",
            "        [ 7, 11],\n",
            "        [ 8, 10],\n",
            "        [ 8, 12],\n",
            "        [ 8, 15],\n",
            "        [ 9, 14],\n",
            "        [12, 16],\n",
            "        [13, 14],\n",
            "        [15, 17],\n",
            "        [16, 18],\n",
            "        [17, 18]]) 0]\n"
          ]
        }
      ],
      "source": [
        "print(training_set[5])"
      ]
    },
    {
      "cell_type": "markdown",
      "metadata": {
        "id": "EUZTHnxQKQmL"
      },
      "source": [
        "## I.III) Visualizing/Inspecting a Sample"
      ]
    },
    {
      "cell_type": "code",
      "execution_count": 7,
      "metadata": {
        "id": "zAcfIi7AKQmL"
      },
      "outputs": [],
      "source": [
        "!pip install --quiet networkx\n",
        "import networkx as nx\n",
        "import matplotlib.pyplot as plt\n",
        "from matplotlib import cm\n",
        "colors = cm.rainbow(np.linspace(0, 1, 50))"
      ]
    },
    {
      "cell_type": "code",
      "execution_count": 8,
      "metadata": {
        "id": "dyOcHKk5KQmM"
      },
      "outputs": [],
      "source": [
        "def visualize(sample):\n",
        "    G=nx.Graph()\n",
        "    nodes = sample[0]\n",
        "    edges = sample[1]\n",
        "    \n",
        "    labeldict={}\n",
        "    node_color=[]\n",
        "    for i,n in enumerate(nodes):\n",
        "        G.add_node(i)\n",
        "        labeldict[i]=n\n",
        "        node_color.append(colors[hash(n)%len(colors)])\n",
        "\n",
        "    # a list of nodes:\n",
        "    for e in edges:\n",
        "        G.add_edge(e[0], e[1])\n",
        "        \n",
        "    nx.draw(G, labels=labeldict, with_labels = True, node_color = node_color)\n",
        "    plt.show()\n",
        "    \n",
        "    return G"
      ]
    },
    {
      "cell_type": "code",
      "execution_count": 9,
      "metadata": {
        "colab": {
          "base_uri": "https://localhost:8080/",
          "height": 533
        },
        "id": "rA_bP7CpKQmM",
        "outputId": "019ffb60-6b7d-45fb-c4b0-d6df0dc1c14f"
      },
      "outputs": [
        {
          "output_type": "display_data",
          "data": {
            "text/plain": [
              "<Figure size 640x480 with 1 Axes>"
            ],
            "image/png": "[encoded data removed]"
          },
          "metadata": {}
        },
        {
          "output_type": "execute_result",
          "data": {
            "text/plain": [
              "<networkx.classes.graph.Graph at 0x7fd79197baf0>"
            ]
          },
          "metadata": {},
          "execution_count": 9
        }
      ],
      "source": [
        "plt.clf()\n",
        "visualize(training_set[20])"
      ]
    },
    {
      "cell_type": "markdown",
      "metadata": {
        "id": "j15NH_elKQmM"
      },
      "source": [
        "# Part II) Preprocessing Data"
      ]
    },
    {
      "cell_type": "code",
      "execution_count": 10,
      "metadata": {
        "id": "N_zLGeuWKQmM"
      },
      "outputs": [],
      "source": [
        "from tensorflow.keras.preprocessing.text import Tokenizer\n",
        "\n",
        "max_vocab = 500\n",
        "max_len = 100\n",
        "\n",
        "# build vocabulary from training set\n",
        "all_nodes = [s[0] for s in training_set]\n",
        "tokenizer = Tokenizer(num_words=max_vocab)\n",
        "tokenizer.fit_on_texts(all_nodes)"
      ]
    },
    {
      "cell_type": "code",
      "execution_count": 11,
      "metadata": {
        "id": "qzcarRWWKQmN"
      },
      "outputs": [],
      "source": [
        "from tensorflow.keras.preprocessing.sequence import pad_sequences\n",
        "import random\n",
        "random.seed(0)\n",
        "\n",
        "def prepare_single_batch(samples):\n",
        "    sample_nodes = [s[0] for s in samples]\n",
        "    sample_nodes = tokenizer.texts_to_sequences(sample_nodes)\n",
        "    sample_nodes = pad_sequences(sample_nodes, padding='post')\n",
        "    max_nodes_len = np.shape(sample_nodes)[1]\n",
        "    edges = [s[1]+i*max_nodes_len for i,s in enumerate(samples)]\n",
        "    edges = [e for e in edges if len(e) > 0]\n",
        "    node_to_graph = [[i]*max_nodes_len for i in range(len(samples))]\n",
        "    \n",
        "    all_nodes = np.reshape(sample_nodes, -1)\n",
        "    all_edges = np.concatenate(edges)\n",
        "\n",
        "    node_to_graph = np.reshape(node_to_graph, -1)\n",
        "    return {\n",
        "        'data': all_nodes,\n",
        "        'edges': all_edges,\n",
        "        'node2grah': node_to_graph,\n",
        "    }, np.array([s[2] for s in samples])\n",
        "\n",
        "\n",
        "\n",
        "def gen_batch(dataset, batch_size=16, repeat=False, shuffle=True):\n",
        "    while True:\n",
        "        dataset = list(dataset)\n",
        "        if shuffle:\n",
        "            random.shuffle(dataset)\n",
        "        l = len(dataset)\n",
        "        for ndx in range(0, l, batch_size):\n",
        "            batch_samples = dataset[ndx:min(ndx + batch_size, l)]\n",
        "            yield prepare_single_batch(batch_samples)\n",
        "        if not repeat:\n",
        "            break\n"
      ]
    },
    {
      "cell_type": "code",
      "execution_count": 12,
      "metadata": {
        "colab": {
          "base_uri": "https://localhost:8080/"
        },
        "id": "FrehyivrKQmN",
        "outputId": "430c721f-5edf-4db1-9119-c5e2e803600e"
      },
      "outputs": [
        {
          "output_type": "stream",
          "name": "stdout",
          "text": [
            "data\n",
            "[4 2 2 3 3 3 1 1 1 1 1 1 1 1 1 1 1 1 1 1 1 1 1 1 1 1 1 1 1 5 2 3 3 3 3 1 1\n",
            " 1 1 1 1 1 1 1 1 1 1 1 1 1 1 1 1 1 1 1 1 0 5 5 6 2 2 2 3 3 3 1 1 1 1 1 1 1\n",
            " 1 1 1 1 1 1 1 1 1 1 1 1 0 2 2 3 3 1 1 1 1 1 1 1 1 1 1 1 1 1 1 0 0 0 0 0 0\n",
            " 0 0 0 0 0]\n",
            "edges\n",
            "[[  0  28]\n",
            " [  1   6]\n",
            " [  2   7]\n",
            " [  3   4]\n",
            " [  3  10]\n",
            " [  4  28]\n",
            " [  5  28]\n",
            " [  6   7]\n",
            " [  6  13]\n",
            " [  6  14]\n",
            " [  7   8]\n",
            " [  8   9]\n",
            " [  8  18]\n",
            " [  9  16]\n",
            " [  9  21]\n",
            " [ 10  11]\n",
            " [ 10  12]\n",
            " [ 11  17]\n",
            " [ 11  19]\n",
            " [ 12  15]\n",
            " [ 12  22]\n",
            " [ 13  16]\n",
            " [ 14  17]\n",
            " [ 15  20]\n",
            " [ 15  23]\n",
            " [ 18  24]\n",
            " [ 19  20]\n",
            " [ 21  25]\n",
            " [ 22  26]\n",
            " [ 23  27]\n",
            " [ 24  25]\n",
            " [ 26  27]\n",
            " [ 29  49]\n",
            " [ 30  39]\n",
            " [ 31  36]\n",
            " [ 31  39]\n",
            " [ 31  41]\n",
            " [ 32  43]\n",
            " [ 32  46]\n",
            " [ 33  44]\n",
            " [ 34  55]\n",
            " [ 35  36]\n",
            " [ 35  37]\n",
            " [ 35  38]\n",
            " [ 36  42]\n",
            " [ 37  40]\n",
            " [ 37  48]\n",
            " [ 38  41]\n",
            " [ 38  49]\n",
            " [ 39  43]\n",
            " [ 40  44]\n",
            " [ 40  50]\n",
            " [ 42  44]\n",
            " [ 43  47]\n",
            " [ 45  46]\n",
            " [ 45  47]\n",
            " [ 45  51]\n",
            " [ 46  53]\n",
            " [ 48  52]\n",
            " [ 50  54]\n",
            " [ 51  55]\n",
            " [ 52  54]\n",
            " [ 53  56]\n",
            " [ 55  56]\n",
            " [ 58  74]\n",
            " [ 59  79]\n",
            " [ 60  78]\n",
            " [ 61  68]\n",
            " [ 61  72]\n",
            " [ 62  66]\n",
            " [ 63  66]\n",
            " [ 64  65]\n",
            " [ 64  67]\n",
            " [ 65  69]\n",
            " [ 66  83]\n",
            " [ 67  68]\n",
            " [ 67  70]\n",
            " [ 68  73]\n",
            " [ 69  70]\n",
            " [ 69  71]\n",
            " [ 71  74]\n",
            " [ 71  75]\n",
            " [ 72  76]\n",
            " [ 72  77]\n",
            " [ 73  76]\n",
            " [ 74  80]\n",
            " [ 75  78]\n",
            " [ 77  81]\n",
            " [ 77  82]\n",
            " [ 78  79]\n",
            " [ 79  80]\n",
            " [ 81  84]\n",
            " [ 82  85]\n",
            " [ 83  84]\n",
            " [ 83  85]\n",
            " [ 87 101]\n",
            " [ 88 101]\n",
            " [ 89  93]\n",
            " [ 89  94]\n",
            " [ 90  95]\n",
            " [ 90  96]\n",
            " [ 90  99]\n",
            " [ 91  92]\n",
            " [ 91  93]\n",
            " [ 91  97]\n",
            " [ 92  94]\n",
            " [ 92  95]\n",
            " [ 93  98]\n",
            " [ 96 100]\n",
            " [ 96 101]\n",
            " [ 97 103]\n",
            " [ 98 104]\n",
            " [ 99 102]\n",
            " [100 102]\n",
            " [103 104]]\n",
            "node2grah\n",
            "[0 0 0 0 0 0 0 0 0 0 0 0 0 0 0 0 0 0 0 0 0 0 0 0 0 0 0 0 0 1 1 1 1 1 1 1 1\n",
            " 1 1 1 1 1 1 1 1 1 1 1 1 1 1 1 1 1 1 1 1 1 2 2 2 2 2 2 2 2 2 2 2 2 2 2 2 2\n",
            " 2 2 2 2 2 2 2 2 2 2 2 2 2 3 3 3 3 3 3 3 3 3 3 3 3 3 3 3 3 3 3 3 3 3 3 3 3\n",
            " 3 3 3 3 3]\n",
            "label [0 1 0 0]\n"
          ]
        }
      ],
      "source": [
        "# showing one batch:\n",
        "for train_batch in gen_batch(training_set, batch_size=4):\n",
        "    for k,v in train_batch[0].items():\n",
        "        print(k)\n",
        "        print(v)\n",
        "        pass\n",
        "    print('label', train_batch[1])\n",
        "    break"
      ]
    },
    {
      "cell_type": "code",
      "execution_count": 13,
      "metadata": {
        "colab": {
          "base_uri": "https://localhost:8080/"
        },
        "id": "qiMOGNH5KQmN",
        "outputId": "3666fff2-eac6-4d3c-cec0-5a4656a15a2f"
      },
      "outputs": [
        {
          "output_type": "stream",
          "name": "stdout",
          "text": [
            "\u001b[2K     \u001b[90m━━━━━━━━━━━━━━━━━━━━━━━━━━━━━━━━━━━━━━━━\u001b[0m \u001b[32m54.9/54.9 kB\u001b[0m \u001b[31m6.5 MB/s\u001b[0m eta \u001b[36m0:00:00\u001b[0m\n",
            "\u001b[?25h  Preparing metadata (setup.py) ... \u001b[?25l\u001b[?25hdone\n",
            "\u001b[2K     \u001b[90m━━━━━━━━━━━━━━━━━━━━━━━━━━━━━━━━━━━━━━━━\u001b[0m \u001b[32m73.3/73.3 kB\u001b[0m \u001b[31m7.7 MB/s\u001b[0m eta \u001b[36m0:00:00\u001b[0m\n",
            "\u001b[2K     \u001b[90m━━━━━━━━━━━━━━━━━━━━━━━━━━━━━━━━━━━━━━\u001b[0m \u001b[32m135.5/135.5 kB\u001b[0m \u001b[31m16.6 MB/s\u001b[0m eta \u001b[36m0:00:00\u001b[0m\n",
            "\u001b[2K     \u001b[90m━━━━━━━━━━━━━━━━━━━━━━━━━━━━━━━━━━━━━━\u001b[0m \u001b[32m388.0/388.0 kB\u001b[0m \u001b[31m25.6 MB/s\u001b[0m eta \u001b[36m0:00:00\u001b[0m\n",
            "\u001b[2K     \u001b[90m━━━━━━━━━━━━━━━━━━━━━━━━━━━━━━━━━━━━━━━━\u001b[0m \u001b[32m1.3/1.3 MB\u001b[0m \u001b[31m60.9 MB/s\u001b[0m eta \u001b[36m0:00:00\u001b[0m\n",
            "\u001b[?25h  Preparing metadata (setup.py) ... \u001b[?25l\u001b[?25hdone\n",
            "\u001b[2K     \u001b[90m━━━━━━━━━━━━━━━━━━━━━━━━━━━━━━━━━━━━━━\u001b[0m \u001b[32m173.9/173.9 kB\u001b[0m \u001b[31m20.0 MB/s\u001b[0m eta \u001b[36m0:00:00\u001b[0m\n",
            "\u001b[2K     \u001b[90m━━━━━━━━━━━━━━━━━━━━━━━━━━━━━━━━━━━━━━━━\u001b[0m \u001b[32m90.0/90.0 kB\u001b[0m \u001b[31m11.5 MB/s\u001b[0m eta \u001b[36m0:00:00\u001b[0m\n",
            "\u001b[2K     \u001b[90m━━━━━━━━━━━━━━━━━━━━━━━━━━━━━━━━━━━━━━━━\u001b[0m \u001b[32m41.7/41.7 kB\u001b[0m \u001b[31m5.2 MB/s\u001b[0m eta \u001b[36m0:00:00\u001b[0m\n",
            "\u001b[?25h  Building wheel for tf2_gnn (setup.py) ... \u001b[?25l\u001b[?25hdone\n",
            "  Building wheel for docopt (setup.py) ... \u001b[?25l\u001b[?25hdone\n"
          ]
        }
      ],
      "source": [
        "!pip install --quiet tf2_gnn\n",
        "\n",
        "# https://github.com/microsoft/tf2-gnn\n",
        "# https://github.com/microsoft/tf2-gnn/blob/master/tf2_gnn/layers/gnn.py\n",
        "\n",
        "from tf2_gnn.layers.gnn import GNN, GNNInput"
      ]
    },
    {
      "cell_type": "markdown",
      "source": [
        "# Part III) Creating GCN Model"
      ],
      "metadata": {
        "id": "ihE6ep6em0Ap"
      }
    },
    {
      "cell_type": "markdown",
      "source": [
        "## III.I) Trial #1 Using Defult GNN Model"
      ],
      "metadata": {
        "id": "XPxOQR00m19j"
      }
    },
    {
      "cell_type": "markdown",
      "source": [
        "#### ▶ In **Trial #1**:\n",
        " * We will use the defult **GCN** model with **GNN default hyperparameters**, sets the output of all message passing layers with size 32 and using **1 Dense** layer which **batch size = 16** and **20 Embedding layer**."
      ],
      "metadata": {
        "id": "KkgDWIz7vv8J"
      }
    },
    {
      "cell_type": "code",
      "execution_count": 74,
      "metadata": {
        "colab": {
          "base_uri": "https://localhost:8080/"
        },
        "id": "DOSS6nrTKQmO",
        "outputId": "8ca5de69-d9f3-4074-80a6-0a04b364007f"
      },
      "outputs": [
        {
          "output_type": "stream",
          "name": "stdout",
          "text": [
            "gnn_out KerasTensor(type_spec=TensorSpec(shape=(None, 32), dtype=tf.float32, name=None), name='gnn/StatefulPartitionedCall:0', description=\"created by layer 'gnn'\")\n",
            "mean: KerasTensor(type_spec=TensorSpec(shape=(None, 32), dtype=tf.float32, name=None), name='tf.math.segment_mean/SegmentMean:0', description=\"created by layer 'tf.math.segment_mean'\")\n",
            "pred: KerasTensor(type_spec=TensorSpec(shape=(None, 1), dtype=tf.float32, name=None), name='dense/Sigmoid:0', description=\"created by layer 'dense'\")\n",
            "Model: \"model\"\n",
            "__________________________________________________________________________________________________\n",
            " Layer (type)                   Output Shape         Param #     Connected to                     \n",
            "==================================================================================================\n",
            " input_3 (InputLayer)           [(None,)]            0           []                               \n",
            "                                                                                                  \n",
            " input_1 (InputLayer)           [(None,)]            0           []                               \n",
            "                                                                                                  \n",
            " tf.math.reduce_max (TFOpLambda  ()                  0           ['input_3[0][0]']                \n",
            " )                                                                                                \n",
            "                                                                                                  \n",
            " embedding (Embedding)          (None, 20)           10000       ['input_1[0][0]']                \n",
            "                                                                                                  \n",
            " input_2 (InputLayer)           [(None, 2)]          0           []                               \n",
            "                                                                                                  \n",
            " tf.__operators__.add (TFOpLamb  ()                  0           ['tf.math.reduce_max[0][0]']     \n",
            " da)                                                                                              \n",
            "                                                                                                  \n",
            " gnn (GNN)                      (None, 32)           22464       ['embedding[0][0]',              \n",
            "                                                                  'input_2[0][0]',                \n",
            "                                                                  'input_3[0][0]',                \n",
            "                                                                  'tf.__operators__.add[0][0]']   \n",
            "                                                                                                  \n",
            " tf.math.segment_mean (TFOpLamb  (None, 32)          0           ['gnn[0][0]',                    \n",
            " da)                                                              'input_3[0][0]']                \n",
            "                                                                                                  \n",
            " dense (Dense)                  (None, 1)            33          ['tf.math.segment_mean[0][0]']   \n",
            "                                                                                                  \n",
            "==================================================================================================\n",
            "Total params: 32,497\n",
            "Trainable params: 32,497\n",
            "Non-trainable params: 0\n",
            "__________________________________________________________________________________________________\n"
          ]
        }
      ],
      "source": [
        "import tensorflow as tf\n",
        "from tensorflow.math import segment_mean\n",
        "from tensorflow import keras\n",
        "from tensorflow.keras import Input, Model\n",
        "from tensorflow.keras.layers import Embedding, Dense\n",
        "from tensorflow.keras.optimizers import Adam\n",
        "from tf2_gnn.layers.gnn import GNN, GNNInput\n",
        "\n",
        "keras.backend.clear_session()\n",
        "\n",
        "data = keras.Input(batch_shape=(None,))\n",
        "\n",
        "# the first dim is different to the previous one. it is the total number of edges in this batch\n",
        "edge = keras.Input(batch_shape=(None, 2), dtype=tf.int32)\n",
        "node2graph = keras.Input(batch_shape=(None,), dtype=tf.int32)\n",
        "embeded = Embedding(tokenizer.num_words, 20)(data)\n",
        "\n",
        "# number of graphs (number of samples)\n",
        "num_graph = tf.reduce_max(node2graph)+1\n",
        "\n",
        "gnn_input = GNNInput(\n",
        "    node_features=embeded,\n",
        "    adjacency_lists=(edge,),\n",
        "    node_to_graph_map=node2graph, \n",
        "    num_graphs=num_graph,\n",
        ")\n",
        "\n",
        "# https://github.com/microsoft/tf2-gnn/blob/master/tf2_gnn/layers/gnn.py\n",
        "params = GNN.get_default_hyperparameters()\n",
        "params[\"hidden_dim\"] = 32\n",
        "\n",
        "gnn_layer = GNN(params)\n",
        "gnn_out = gnn_layer(gnn_input)\n",
        "\n",
        "print('gnn_out', gnn_out)\n",
        "\n",
        "# https://www.tensorflow.org/api_docs/python/tf/math/segment_mean\n",
        "avg = segment_mean(\n",
        "    data=gnn_out,\n",
        "    segment_ids=node2graph\n",
        ")\n",
        "print('mean:', avg)\n",
        "\n",
        "pred = Dense(1, activation='sigmoid')(avg)\n",
        "print('pred:', pred)\n",
        "\n",
        "model = Model(\n",
        "    inputs={\n",
        "        'data': data,\n",
        "        'edges': edge,\n",
        "        'node2grah': node2graph,\n",
        "    },\n",
        "    outputs=pred\n",
        ")\n",
        "model.summary()"
      ]
    },
    {
      "cell_type": "code",
      "source": [
        "# Printing GNN default hyperparameters\n",
        "print(params)"
      ],
      "metadata": {
        "colab": {
          "base_uri": "https://localhost:8080/"
        },
        "id": "LqE9VXeryg2E",
        "outputId": "b9940d06-b4ef-4c1c-fdca-144bd61dbb93"
      },
      "execution_count": 82,
      "outputs": [
        {
          "output_type": "stream",
          "name": "stdout",
          "text": [
            "{'aggregation_function': 'sum', 'message_activation_function': 'relu', 'message_activation_before_aggregation': False, 'hidden_dim': 32, 'use_target_state_as_input': False, 'normalize_by_num_incoming': True, 'num_edge_MLP_hidden_layers': 0, 'message_calculation_class': 'rgcn', 'initial_node_representation_activation': 'tanh', 'dense_intermediate_layer_activation': 'tanh', 'num_layers': 4, 'dense_every_num_layers': 2, 'residual_every_num_layers': 2, 'use_inter_layer_layernorm': False, 'layer_input_dropout_rate': 0.0, 'global_exchange_mode': 'gru', 'global_exchange_every_num_layers': 2, 'global_exchange_weighting_fun': 'softmax', 'global_exchange_num_heads': 4, 'global_exchange_dropout_rate': 0.2}\n"
          ]
        }
      ]
    },
    {
      "cell_type": "code",
      "execution_count": 75,
      "metadata": {
        "id": "GdONLk8-KQmO"
      },
      "outputs": [],
      "source": [
        "model.compile(\n",
        "    loss='BinaryCrossentropy',\n",
        "    optimizer = Adam(),\n",
        "    metrics=['AUC']\n",
        ")"
      ]
    },
    {
      "cell_type": "code",
      "execution_count": 76,
      "metadata": {
        "colab": {
          "base_uri": "https://localhost:8080/"
        },
        "id": "_aSsBczqKQmO",
        "outputId": "6afb4772-ea6d-42fd-ae8d-838e28193150"
      },
      "outputs": [
        {
          "output_type": "stream",
          "name": "stdout",
          "text": [
            "Epoch 1/20\n",
            "2530/2530 [==============================] - 98s 35ms/step - loss: 0.6195 - auc: 0.7128 - val_loss: 0.5949 - val_auc: 0.7478\n",
            "Epoch 2/20\n",
            "2530/2530 [==============================] - 78s 31ms/step - loss: 0.5944 - auc: 0.7467 - val_loss: 0.5831 - val_auc: 0.7639\n",
            "Epoch 3/20\n",
            "2530/2530 [==============================] - 74s 29ms/step - loss: 0.5845 - auc: 0.7592 - val_loss: 0.5765 - val_auc: 0.7791\n",
            "Epoch 4/20\n",
            "2530/2530 [==============================] - 72s 28ms/step - loss: 0.5771 - auc: 0.7665 - val_loss: 0.5706 - val_auc: 0.7844\n",
            "Epoch 5/20\n",
            "2530/2530 [==============================] - 73s 29ms/step - loss: 0.5700 - auc: 0.7742 - val_loss: 0.5633 - val_auc: 0.7892\n",
            "Epoch 6/20\n",
            "2530/2530 [==============================] - 72s 29ms/step - loss: 0.5596 - auc: 0.7847 - val_loss: 0.5445 - val_auc: 0.7993\n",
            "Epoch 7/20\n",
            "2530/2530 [==============================] - 79s 31ms/step - loss: 0.5461 - auc: 0.7970 - val_loss: 0.5320 - val_auc: 0.8135\n",
            "Epoch 8/20\n",
            "2530/2530 [==============================] - 79s 31ms/step - loss: 0.5338 - auc: 0.8092 - val_loss: 0.5248 - val_auc: 0.8201\n",
            "Epoch 9/20\n",
            "2530/2530 [==============================] - 71s 28ms/step - loss: 0.5191 - auc: 0.8214 - val_loss: 0.5092 - val_auc: 0.8329\n",
            "Epoch 10/20\n",
            "2530/2530 [==============================] - 69s 27ms/step - loss: 0.5083 - auc: 0.8307 - val_loss: 0.4969 - val_auc: 0.8401\n",
            "Epoch 11/20\n",
            "2530/2530 [==============================] - 69s 27ms/step - loss: 0.4971 - auc: 0.8386 - val_loss: 0.4825 - val_auc: 0.8516\n",
            "Epoch 12/20\n",
            "2530/2530 [==============================] - 72s 28ms/step - loss: 0.4864 - auc: 0.8466 - val_loss: 0.4731 - val_auc: 0.8571\n",
            "Epoch 13/20\n",
            "2530/2530 [==============================] - 75s 30ms/step - loss: 0.4771 - auc: 0.8535 - val_loss: 0.4662 - val_auc: 0.8627\n",
            "Epoch 14/20\n",
            "2530/2530 [==============================] - 73s 29ms/step - loss: 0.4673 - auc: 0.8604 - val_loss: 0.4790 - val_auc: 0.8612\n",
            "Epoch 15/20\n",
            "2530/2530 [==============================] - 69s 27ms/step - loss: 0.4612 - auc: 0.8643 - val_loss: 0.4486 - val_auc: 0.8729\n",
            "Epoch 16/20\n",
            "2530/2530 [==============================] - 72s 29ms/step - loss: 0.4565 - auc: 0.8674 - val_loss: 0.4365 - val_auc: 0.8804\n",
            "Epoch 17/20\n",
            "2530/2530 [==============================] - 72s 29ms/step - loss: 0.4475 - auc: 0.8733 - val_loss: 0.4375 - val_auc: 0.8826\n",
            "Epoch 18/20\n",
            "2530/2530 [==============================] - 72s 28ms/step - loss: 0.4440 - auc: 0.8757 - val_loss: 0.4236 - val_auc: 0.8897\n",
            "Epoch 19/20\n",
            "2530/2530 [==============================] - 71s 28ms/step - loss: 0.4339 - auc: 0.8819 - val_loss: 0.4223 - val_auc: 0.8919\n",
            "Epoch 20/20\n",
            "2530/2530 [==============================] - 72s 29ms/step - loss: 0.4289 - auc: 0.8850 - val_loss: 0.4206 - val_auc: 0.8922\n"
          ]
        }
      ],
      "source": [
        "import math\n",
        "from keras.callbacks import ModelCheckpoint, EarlyStopping\n",
        "\n",
        "batch_size = 16\n",
        "num_batchs = math.ceil(len(training_set) / batch_size)\n",
        "num_batchs_validation = math.ceil(len(training_set) / batch_size)\n",
        "\n",
        "early_stopping = EarlyStopping(monitor='val_auc', patience=5, mode = 'max')\n",
        "\n",
        "history = model.fit(\n",
        "    gen_batch(\n",
        "        training_set, batch_size=batch_size, repeat=True\n",
        "    ),\n",
        "    steps_per_epoch=num_batchs,\n",
        "    epochs=20,\n",
        "    validation_data=gen_batch(\n",
        "        validation_set, batch_size=batch_size, repeat=True\n",
        "    ),\n",
        "    validation_steps=num_batchs_validation,\n",
        "    callbacks=[early_stopping]\n",
        ")"
      ]
    },
    {
      "cell_type": "code",
      "execution_count": 77,
      "metadata": {
        "colab": {
          "base_uri": "https://localhost:8080/"
        },
        "id": "YMHInFFWKQmO",
        "outputId": "6322e6ba-ed77-4d8c-b9ec-cfd1cf52c5c7"
      },
      "outputs": [
        {
          "output_type": "stream",
          "name": "stdout",
          "text": [
            "771/771 [==============================] - 6s 8ms/step\n",
            "(12326, 1)\n"
          ]
        }
      ],
      "source": [
        "y_pred = model.predict(\n",
        "    gen_batch(testing_set, batch_size=16, shuffle=False)\n",
        ")\n",
        "print(y_pred.shape)\n",
        "y_pred = np.reshape(y_pred, -1)"
      ]
    },
    {
      "cell_type": "code",
      "execution_count": 78,
      "metadata": {
        "colab": {
          "base_uri": "https://localhost:8080/"
        },
        "id": "sBwgq4tEKQmO",
        "outputId": "2b0f841d-e566-41df-a5fa-f5fb12fe7a7c"
      },
      "outputs": [
        {
          "output_type": "execute_result",
          "data": {
            "text/plain": [
              "12326"
            ]
          },
          "metadata": {},
          "execution_count": 78
        }
      ],
      "source": [
        "len(y_pred)"
      ]
    },
    {
      "cell_type": "code",
      "execution_count": 79,
      "metadata": {
        "colab": {
          "base_uri": "https://localhost:8080/",
          "height": 472
        },
        "id": "vBT4RcA2KQmP",
        "outputId": "6246c5f6-c48e-40c9-8ac3-facdf017cd69"
      },
      "outputs": [
        {
          "output_type": "display_data",
          "data": {
            "text/plain": [
              "<Figure size 640x480 with 1 Axes>"
            ],
            "image/png": "[encoded data removed]"
          },
          "metadata": {}
        }
      ],
      "source": [
        "# summarize history for AUC Score\n",
        "plt.plot(history.history['auc'])\n",
        "plt.plot(history.history['val_auc'])\n",
        "plt.title('Model AUC')\n",
        "plt.ylabel('AUC')\n",
        "plt.xlabel('Epoch')\n",
        "plt.legend(['Train', 'Validation'], loc='upper left')\n",
        "plt.show()"
      ]
    },
    {
      "cell_type": "code",
      "execution_count": 80,
      "metadata": {
        "colab": {
          "base_uri": "https://localhost:8080/",
          "height": 472
        },
        "id": "El_hmgNXKQmP",
        "outputId": "1c39320a-86bf-4766-8e2c-9019cb3211ec"
      },
      "outputs": [
        {
          "output_type": "display_data",
          "data": {
            "text/plain": [
              "<Figure size 640x480 with 1 Axes>"
            ],
            "image/png": "[encoded data removed]"
          },
          "metadata": {}
        }
      ],
      "source": [
        "# summarize history for loss\n",
        "plt.plot(history.history['loss'])\n",
        "plt.plot(history.history['val_loss'])\n",
        "plt.title('model loss')\n",
        "plt.ylabel('loss')\n",
        "plt.xlabel('epoch')\n",
        "plt.legend(['Train', 'Validation'], loc='upper left')\n",
        "plt.show()"
      ]
    },
    {
      "cell_type": "code",
      "execution_count": 81,
      "metadata": {
        "id": "PqCtddodKQmP"
      },
      "outputs": [],
      "source": [
        "# define function to save the csv file of the result after each trial\n",
        "import pandas as pd \n",
        "submission = pd.DataFrame({'label':y_pred})\n",
        "submission.index.name = 'id'\n",
        "submission.to_csv('templet_with_sampling_1_88.50.csv')"
      ]
    },
    {
      "cell_type": "markdown",
      "source": [
        "#### ⚫ **OBSERVATION:**\n",
        "\n",
        "▶  In **Trial #1** we notice that when we use **GNN default hyperparameters** the **ROC_AUC_Score** is **88.50%** which is good but maybe the increase in the model complexity of the model will be followed by an increase in performance, and that what will we do in the next trial. "
      ],
      "metadata": {
        "id": "1WkBHcAuz3MC"
      }
    },
    {
      "cell_type": "markdown",
      "source": [
        "## III.II) Using GGNN Message-Passing Mechanism"
      ],
      "metadata": {
        "id": "l57sgmShduhA"
      }
    },
    {
      "cell_type": "markdown",
      "source": [
        "⭐ In the next **3 trials** we will use GGNN Message-Passing Mechanism that is better suited for modeling dynamic graphs, where the structure of the graph changes over time.\n"
      ],
      "metadata": {
        "id": "dprpUKqPd7Mk"
      }
    },
    {
      "cell_type": "markdown",
      "source": [
        "### III.II.I) Trial #2 "
      ],
      "metadata": {
        "id": "ez7nv_3em8BN"
      }
    },
    {
      "cell_type": "markdown",
      "source": [
        "#### ▶ In **Trial #2**: \n",
        "* We will increase the complexity of the model, with **GGNN** **Message-Passing Mechanism**, and increase the number of neurons in the hidden layer to 64 and change defult **exchange_mode** to **mlp**, **num_layers** to **16**, and using **1 Dense** layer which **batch size = 16** and **50 Embedding layer**, may these changes increse the complexity of the model."
      ],
      "metadata": {
        "id": "rytVG4oI2yE1"
      }
    },
    {
      "cell_type": "code",
      "source": [
        "from tf2_gnn.layers.gnn import GNN, GNNInput\n",
        "\n",
        "keras.backend.clear_session()\n",
        "\n",
        "data = keras.Input(batch_shape=(None,))\n",
        "\n",
        "# the first dim is different to the previous one. it is the total number of edges in this batch\n",
        "edge = keras.Input(batch_shape=(None, 2), dtype=tf.int32)\n",
        "node2graph = keras.Input(batch_shape=(None,), dtype=tf.int32)\n",
        "embeded = Embedding(tokenizer.num_words, 50)(data)\n",
        "\n",
        "# number of graphs (number of samples)\n",
        "num_graph = tf.reduce_max(node2graph)+1\n",
        "\n",
        "gnn_input = GNNInput(\n",
        "    node_features=embeded,\n",
        "    adjacency_lists=(edge,),\n",
        "    node_to_graph_map=node2graph, \n",
        "    num_graphs=num_graph,\n",
        ")\n",
        "\n",
        "# https://github.com/microsoft/tf2-gnn/blob/master/tf2_gnn/layers/gnn.py\n",
        "params = GNN.get_default_hyperparameters()\n",
        "params[\"hidden_dim\"] ,params['message_calculation_class'], params['dense_intermediate_layer_activation'], params['num_layers'], params['global_exchange_mode'] = 64, 'GGNN', 'tanh', 16, 'mlp'\n",
        "\n",
        "gnn_layer = GNN(params)\n",
        "gnn_out = gnn_layer(gnn_input)\n",
        "\n",
        "print('gnn_out', gnn_out)\n",
        "\n",
        "# https://www.tensorflow.org/api_docs/python/tf/math/segment_mean\n",
        "avg = segment_mean(\n",
        "    data=gnn_out,\n",
        "    segment_ids=node2graph\n",
        ")\n",
        "print('mean:', avg)\n",
        "\n",
        "pred = Dense(1, activation='sigmoid')(avg)\n",
        "print('pred:', pred)\n",
        "\n",
        "model_2 = Model(\n",
        "    inputs={\n",
        "        'data': data,\n",
        "        'edges': edge,\n",
        "        'node2grah': node2graph,\n",
        "    },\n",
        "    outputs=pred\n",
        ")\n",
        "model_2.summary()"
      ],
      "metadata": {
        "colab": {
          "base_uri": "https://localhost:8080/"
        },
        "id": "BjQ1wKnum-sD",
        "outputId": "c68e30e8-e30b-4308-b77d-3488c482a4fd"
      },
      "execution_count": 98,
      "outputs": [
        {
          "output_type": "stream",
          "name": "stdout",
          "text": [
            "gnn_out KerasTensor(type_spec=TensorSpec(shape=(None, 64), dtype=tf.float32, name=None), name='gnn/StatefulPartitionedCall:0', description=\"created by layer 'gnn'\")\n",
            "mean: KerasTensor(type_spec=TensorSpec(shape=(None, 64), dtype=tf.float32, name=None), name='tf.math.segment_mean/SegmentMean:0', description=\"created by layer 'tf.math.segment_mean'\")\n",
            "pred: KerasTensor(type_spec=TensorSpec(shape=(None, 1), dtype=tf.float32, name=None), name='dense/Sigmoid:0', description=\"created by layer 'dense'\")\n",
            "Model: \"model\"\n",
            "__________________________________________________________________________________________________\n",
            " Layer (type)                   Output Shape         Param #     Connected to                     \n",
            "==================================================================================================\n",
            " input_3 (InputLayer)           [(None,)]            0           []                               \n",
            "                                                                                                  \n",
            " input_1 (InputLayer)           [(None,)]            0           []                               \n",
            "                                                                                                  \n",
            " tf.math.reduce_max (TFOpLambda  ()                  0           ['input_3[0][0]']                \n",
            " )                                                                                                \n",
            "                                                                                                  \n",
            " embedding (Embedding)          (None, 50)           25000       ['input_1[0][0]']                \n",
            "                                                                                                  \n",
            " input_2 (InputLayer)           [(None, 2)]          0           []                               \n",
            "                                                                                                  \n",
            " tf.__operators__.add (TFOpLamb  ()                  0           ['tf.math.reduce_max[0][0]']     \n",
            " da)                                                                                              \n",
            "                                                                                                  \n",
            " gnn (GNN)                      (None, 64)           732032      ['embedding[0][0]',              \n",
            "                                                                  'input_2[0][0]',                \n",
            "                                                                  'input_3[0][0]',                \n",
            "                                                                  'tf.__operators__.add[0][0]']   \n",
            "                                                                                                  \n",
            " tf.math.segment_mean (TFOpLamb  (None, 64)          0           ['gnn[0][0]',                    \n",
            " da)                                                              'input_3[0][0]']                \n",
            "                                                                                                  \n",
            " dense (Dense)                  (None, 1)            65          ['tf.math.segment_mean[0][0]']   \n",
            "                                                                                                  \n",
            "==================================================================================================\n",
            "Total params: 757,097\n",
            "Trainable params: 757,097\n",
            "Non-trainable params: 0\n",
            "__________________________________________________________________________________________________\n"
          ]
        }
      ]
    },
    {
      "cell_type": "code",
      "source": [
        "# Printing GNN default hyperparameters\n",
        "print(params)"
      ],
      "metadata": {
        "colab": {
          "base_uri": "https://localhost:8080/"
        },
        "id": "EsutVuCSy7B6",
        "outputId": "e5087b84-73b2-4eda-dfb0-aeadf6aa6557"
      },
      "execution_count": 99,
      "outputs": [
        {
          "output_type": "stream",
          "name": "stdout",
          "text": [
            "{'aggregation_function': 'sum', 'message_activation_function': 'relu', 'message_activation_before_aggregation': False, 'hidden_dim': 64, 'use_target_state_as_input': False, 'normalize_by_num_incoming': True, 'num_edge_MLP_hidden_layers': 0, 'message_calculation_class': 'GGNN', 'initial_node_representation_activation': 'tanh', 'dense_intermediate_layer_activation': 'tanh', 'num_layers': 16, 'dense_every_num_layers': 2, 'residual_every_num_layers': 2, 'use_inter_layer_layernorm': False, 'layer_input_dropout_rate': 0.0, 'global_exchange_mode': 'mlp', 'global_exchange_every_num_layers': 2, 'global_exchange_weighting_fun': 'softmax', 'global_exchange_num_heads': 4, 'global_exchange_dropout_rate': 0.2}\n"
          ]
        }
      ]
    },
    {
      "cell_type": "code",
      "source": [
        "model_2.compile(\n",
        "    loss='BinaryCrossentropy',\n",
        "    optimizer = Adam(),\n",
        "    metrics=['AUC']\n",
        ")"
      ],
      "metadata": {
        "id": "EBNESZxRXq_7"
      },
      "execution_count": 100,
      "outputs": []
    },
    {
      "cell_type": "code",
      "source": [
        "import math\n",
        "from keras.callbacks import ModelCheckpoint, EarlyStopping\n",
        "\n",
        "batch_size = 16\n",
        "num_batchs = math.ceil(len(training_set) / batch_size)\n",
        "num_batchs_validation = math.ceil(len(training_set) / batch_size)\n",
        "\n",
        "early_stopping = EarlyStopping(monitor='val_auc', patience=5, mode = 'max')\n",
        "\n",
        "history_2 = model_2.fit(\n",
        "    gen_batch(\n",
        "        training_set, batch_size=batch_size, repeat=True\n",
        "    ),\n",
        "    steps_per_epoch=num_batchs,\n",
        "    epochs=20,\n",
        "    validation_data=gen_batch(\n",
        "        validation_set, batch_size=batch_size, repeat=True\n",
        "    ),\n",
        "    validation_steps=num_batchs_validation,\n",
        "    callbacks=[early_stopping]\n",
        ")"
      ],
      "metadata": {
        "colab": {
          "base_uri": "https://localhost:8080/"
        },
        "id": "9iBjzA6jX1m3",
        "outputId": "9f61ef9f-7ffc-424a-d077-9d8adb96e61c"
      },
      "execution_count": null,
      "outputs": [
        {
          "output_type": "stream",
          "name": "stdout",
          "text": [
            "Epoch 1/20\n",
            "2530/2530 [==============================] - 762s 292ms/step - loss: 0.6649 - auc: 0.6309 - val_loss: 0.6623 - val_auc: 0.6376\n",
            "Epoch 2/20\n",
            "2530/2530 [==============================] - 738s 292ms/step - loss: 0.6576 - auc: 0.6480 - val_loss: 0.6605 - val_auc: 0.6405\n",
            "Epoch 3/20\n",
            "2530/2530 [==============================] - 797s 315ms/step - loss: 0.6574 - auc: 0.6480 - val_loss: 0.6591 - val_auc: 0.6422\n",
            "Epoch 4/20\n",
            "2530/2530 [==============================] - 804s 318ms/step - loss: 0.6560 - auc: 0.6506 - val_loss: 0.6587 - val_auc: 0.6475\n",
            "Epoch 5/20\n",
            "2530/2530 [==============================] - 783s 309ms/step - loss: 0.6554 - auc: 0.6513 - val_loss: 0.6549 - val_auc: 0.6531\n",
            "Epoch 6/20\n",
            "2530/2530 [==============================] - 808s 319ms/step - loss: 0.6506 - auc: 0.6599 - val_loss: 0.6645 - val_auc: 0.6554\n",
            "Epoch 7/20\n",
            "2530/2530 [==============================] - 828s 327ms/step - loss: 0.6498 - auc: 0.6631 - val_loss: 0.6477 - val_auc: 0.6644\n",
            "Epoch 8/20\n",
            "2530/2530 [==============================] - 792s 313ms/step - loss: 0.6476 - auc: 0.6671 - val_loss: 0.6467 - val_auc: 0.6668\n",
            "Epoch 9/20\n",
            "2530/2530 [==============================] - 814s 322ms/step - loss: 0.6460 - auc: 0.6708 - val_loss: 0.6475 - val_auc: 0.6691\n",
            "Epoch 10/20\n",
            "2530/2530 [==============================] - 828s 327ms/step - loss: 0.6475 - auc: 0.6695 - val_loss: 0.6479 - val_auc: 0.6667\n",
            "Epoch 11/20\n",
            "2530/2530 [==============================] - 782s 309ms/step - loss: 0.6467 - auc: 0.6717 - val_loss: 0.6480 - val_auc: 0.6677\n",
            "Epoch 12/20\n",
            "2530/2530 [==============================] - 788s 312ms/step - loss: 0.6456 - auc: 0.6733 - val_loss: 0.6525 - val_auc: 0.6682\n",
            "Epoch 13/20\n",
            "2530/2530 [==============================] - 806s 319ms/step - loss: 0.6451 - auc: 0.6738 - val_loss: 0.6423 - val_auc: 0.6794\n",
            "Epoch 14/20\n",
            "2530/2530 [==============================] - 823s 325ms/step - loss: 0.6438 - auc: 0.6770 - val_loss: 0.6529 - val_auc: 0.6685\n",
            "Epoch 15/20\n",
            "2530/2530 [==============================] - 843s 333ms/step - loss: 0.6471 - auc: 0.6695 - val_loss: 0.6482 - val_auc: 0.6672\n",
            "Epoch 16/20\n",
            "2530/2530 [==============================] - 789s 312ms/step - loss: 0.6414 - auc: 0.6816 - val_loss: 0.6399 - val_auc: 0.6888\n",
            "Epoch 17/20\n",
            "2530/2530 [==============================] - 798s 316ms/step - loss: 0.6379 - auc: 0.6877 - val_loss: 0.6379 - val_auc: 0.6882\n",
            "Epoch 18/20\n",
            "2530/2530 [==============================] - 797s 315ms/step - loss: 0.6406 - auc: 0.6840 - val_loss: 0.6378 - val_auc: 0.6877\n",
            "Epoch 19/20\n",
            " 885/2530 [=========>....................] - ETA: 6:32 - loss: 0.6378 - auc: 0.6905"
          ]
        }
      ]
    },
    {
      "cell_type": "code",
      "source": [
        "y_pred_2 = model_2.predict(\n",
        "    gen_batch(testing_set, batch_size=16, shuffle=False)\n",
        ")\n",
        "print(y_pred_2.shape)\n",
        "y_pred_2 = np.reshape(y_pred_2, -1)"
      ],
      "metadata": {
        "id": "wr4EYpcPYKAO"
      },
      "execution_count": null,
      "outputs": []
    },
    {
      "cell_type": "code",
      "source": [
        "# summarize history for AUC Score\n",
        "plt.plot(history_2.history['auc'])\n",
        "plt.plot(history_2.history['val_auc'])\n",
        "plt.title('Model AUC')\n",
        "plt.ylabel('AUC')\n",
        "plt.xlabel('Epoch')\n",
        "plt.legend(['Train', 'Validation'], loc='upper left')\n",
        "plt.show()"
      ],
      "metadata": {
        "id": "G7gGKnqwYUgw"
      },
      "execution_count": null,
      "outputs": []
    },
    {
      "cell_type": "code",
      "source": [
        "# summarize history for loss\n",
        "plt.plot(history_2.history['loss'])\n",
        "plt.plot(history_2.history['val_loss'])\n",
        "plt.title('model loss')\n",
        "plt.ylabel('loss')\n",
        "plt.xlabel('epoch')\n",
        "plt.legend(['Train', 'Validation'], loc='upper left')\n",
        "plt.show()"
      ],
      "metadata": {
        "id": "tAAsTwNYYc3M"
      },
      "execution_count": null,
      "outputs": []
    },
    {
      "cell_type": "code",
      "source": [
        "# define function to save the csv file of the result after each trial\n",
        "import pandas as pd \n",
        "submission = pd.DataFrame({'label':y_pred})\n",
        "submission.index.name = 'id'\n",
        "submission.to_csv('emb_hid_exch_2_.csv')"
      ],
      "metadata": {
        "id": "3myGyAuxYyUl"
      },
      "execution_count": null,
      "outputs": []
    },
    {
      "cell_type": "markdown",
      "source": [
        "#### ⚫ **OBSERVATION:**\n",
        "\n",
        "▶  In **Trial #2** we notice that the changing the exchange mode from of **gru** to **mip** don't improved the **AUC** Score, but it lead to decreasing the AUC Score to **69.05%**and decreasing the model performance about First Trial.\n",
        "\n",
        "👉🏻 so we will make some another changes to improve the model performance."
      ],
      "metadata": {
        "id": "ubH2mxEPf0ed"
      }
    },
    {
      "cell_type": "markdown",
      "source": [
        "### III.II.II) Trial #3"
      ],
      "metadata": {
        "id": "Bm4MbTiGgyCs"
      }
    },
    {
      "cell_type": "markdown",
      "source": [
        "#### ▶ In **Trial #3**: \n",
        "* We will increase the number of Dense layer which we wil add **32 Dense** layer with **RELU** activation function, and we will also increase batch size to 64, may these changes increse the complexity of the model.\n"
      ],
      "metadata": {
        "id": "GuqXqugOj4qt"
      }
    },
    {
      "cell_type": "code",
      "source": [
        "from tf2_gnn.layers.gnn import GNN, GNNInput\n",
        "\n",
        "keras.backend.clear_session()\n",
        "\n",
        "data = keras.Input(batch_shape=(None,))\n",
        "\n",
        "# the first dim is different to the previous one. it is the total number of edges in this batch\n",
        "edge = keras.Input(batch_shape=(None, 2), dtype=tf.int32)\n",
        "node2graph = keras.Input(batch_shape=(None,), dtype=tf.int32)\n",
        "embeded = Embedding(tokenizer.num_words, 50)(data)\n",
        "\n",
        "# number of graphs (number of samples)\n",
        "num_graph = tf.reduce_max(node2graph)+1\n",
        "\n",
        "gnn_input = GNNInput(\n",
        "    node_features=embeded,\n",
        "    adjacency_lists=(edge,),\n",
        "    node_to_graph_map=node2graph, \n",
        "    num_graphs=num_graph,\n",
        ")\n",
        "\n",
        "# https://github.com/microsoft/tf2-gnn/blob/master/tf2_gnn/layers/gnn.py\n",
        "params = GNN.get_default_hyperparameters()\n",
        "params[\"hidden_dim\"] ,params['message_calculation_class'], params['dense_intermediate_layer_activation'], params['num_layers'] = 64, 'GGNN', 'tanh', 16\n",
        "\n",
        "gnn_layer = GNN(params)\n",
        "gnn_out = gnn_layer(gnn_input)\n",
        "\n",
        "print('gnn_out', gnn_out)\n",
        "\n",
        "# https://www.tensorflow.org/api_docs/python/tf/math/segment_mean\n",
        "avg = segment_mean(\n",
        "    data=gnn_out,\n",
        "    segment_ids=node2graph\n",
        ")\n",
        "print('mean:', avg)\n",
        "\n",
        "Denlay = Dense(32, activation='relu')(avg)\n",
        "pred = Dense(1, activation='sigmoid')(Denlay)\n",
        "print('pred:', pred)\n",
        "\n",
        "model_3 = Model(\n",
        "    inputs={\n",
        "        'data': data,\n",
        "        'edges': edge,\n",
        "        'node2grah': node2graph,\n",
        "    },\n",
        "    outputs=pred\n",
        ")\n",
        "model_3.summary()"
      ],
      "metadata": {
        "id": "Ge4LxtxWnzsC"
      },
      "execution_count": null,
      "outputs": []
    },
    {
      "cell_type": "code",
      "source": [
        "model_3.compile(\n",
        "    loss='BinaryCrossentropy',\n",
        "    optimizer = Adam(),\n",
        "    metrics=['AUC']\n",
        ")"
      ],
      "metadata": {
        "id": "hrqYJOC4n9uS"
      },
      "execution_count": null,
      "outputs": []
    },
    {
      "cell_type": "code",
      "source": [
        "import math\n",
        "from keras.callbacks import ModelCheckpoint, EarlyStopping\n",
        "\n",
        "batch_size = 64\n",
        "num_batchs = math.ceil(len(training_set) / batch_size)\n",
        "num_batchs_validation = math.ceil(len(training_set) / batch_size)\n",
        "\n",
        "early_stopping = EarlyStopping(monitor='val_auc', patience=5, mode = 'max')\n",
        "\n",
        "history_3 = model_3.fit(\n",
        "    gen_batch(\n",
        "        training_set, batch_size=batch_size, repeat=True\n",
        "    ),\n",
        "    steps_per_epoch=num_batchs,\n",
        "    epochs=20,\n",
        "    validation_data=gen_batch(\n",
        "        validation_set, batch_size=batch_size, repeat=True\n",
        "    ),\n",
        "    validation_steps=num_batchs_validation,\n",
        "    callbacks=[early_stopping]\n",
        ")"
      ],
      "metadata": {
        "id": "u1fLjjixoBuq"
      },
      "execution_count": null,
      "outputs": []
    },
    {
      "cell_type": "code",
      "source": [
        "y_pred_3 = model_3.predict(\n",
        "    gen_batch(testing_set, batch_size=64, shuffle=False)\n",
        ")\n",
        "print(y_pred_3.shape)\n",
        "y_pred_3 = np.reshape(y_pred_3, -1)"
      ],
      "metadata": {
        "id": "MM8wyrIUoD-q"
      },
      "execution_count": null,
      "outputs": []
    },
    {
      "cell_type": "code",
      "source": [
        "# summarize history for AUC Score\n",
        "plt.plot(history_3.history['auc'])\n",
        "plt.plot(history_3.history['val_auc'])\n",
        "plt.title('Model AUC')\n",
        "plt.ylabel('AUC')\n",
        "plt.xlabel('Epoch')\n",
        "plt.legend(['Train', 'Validation'], loc='upper left')\n",
        "plt.show()"
      ],
      "metadata": {
        "id": "Rbd-BHlgoKAM"
      },
      "execution_count": null,
      "outputs": []
    },
    {
      "cell_type": "code",
      "source": [
        "# summarize history for loss\n",
        "plt.plot(history_3.history['loss'])\n",
        "plt.plot(history_3.history['val_loss'])\n",
        "plt.title('model loss')\n",
        "plt.ylabel('loss')\n",
        "plt.xlabel('epoch')\n",
        "plt.legend(['Train', 'Validation'], loc='upper left')\n",
        "plt.show()"
      ],
      "metadata": {
        "id": "6Wpz4vLcoK06"
      },
      "execution_count": null,
      "outputs": []
    },
    {
      "cell_type": "code",
      "source": [
        "# define function to save the csv file of the result after each trial\n",
        "import pandas as pd \n",
        "submission = pd.DataFrame({'label':y_pred})\n",
        "submission.index.name = 'id'\n",
        "submission.to_csv('trial_3.csv')"
      ],
      "metadata": {
        "id": "uwkxgwJSZmhO"
      },
      "execution_count": null,
      "outputs": []
    },
    {
      "cell_type": "markdown",
      "source": [
        "### III.II.III) Trial #4"
      ],
      "metadata": {
        "id": "owvoskwahLq1"
      }
    },
    {
      "cell_type": "markdown",
      "source": [
        "#### ▶ In **Trial #4**: \n",
        "* We will use **RELU** activation function in **dense_intermediate_layer_activation** parameter.\n"
      ],
      "metadata": {
        "id": "06iHtE3ipETt"
      }
    },
    {
      "cell_type": "code",
      "source": [
        "from tf2_gnn.layers.gnn import GNN, GNNInput\n",
        "\n",
        "keras.backend.clear_session()\n",
        "\n",
        "data = keras.Input(batch_shape=(None,))\n",
        "\n",
        "# the first dim is different to the previous one. it is the total number of edges in this batch\n",
        "edge = keras.Input(batch_shape=(None, 2), dtype=tf.int32)\n",
        "node2graph = keras.Input(batch_shape=(None,), dtype=tf.int32)\n",
        "embeded = Embedding(tokenizer.num_words, 50)(data)\n",
        "\n",
        "# number of graphs (number of samples)\n",
        "num_graph = tf.reduce_max(node2graph)+1\n",
        "\n",
        "gnn_input = GNNInput(\n",
        "    node_features=embeded,\n",
        "    adjacency_lists=(edge,),\n",
        "    node_to_graph_map=node2graph, \n",
        "    num_graphs=num_graph,\n",
        ")\n",
        "\n",
        "# https://github.com/microsoft/tf2-gnn/blob/master/tf2_gnn/layers/gnn.py\n",
        "params = GNN.get_default_hyperparameters()\n",
        "params[\"hidden_dim\"] ,params['message_calculation_class'], params['dense_intermediate_layer_activation'], params['num_layers'] = 64, 'GGNN', 'relu', 16\n",
        "\n",
        "gnn_layer = GNN(params)\n",
        "gnn_out = gnn_layer(gnn_input)\n",
        "\n",
        "print('gnn_out', gnn_out)\n",
        "\n",
        "# https://www.tensorflow.org/api_docs/python/tf/math/segment_mean\n",
        "avg = segment_mean(\n",
        "    data=gnn_out,\n",
        "    segment_ids=node2graph\n",
        ")\n",
        "print('mean:', avg)\n",
        "\n",
        "Denlay = Dense(32, activation='relu')(avg)\n",
        "pred = Dense(1, activation='sigmoid')(Denlay)\n",
        "print('pred:', pred)\n",
        "\n",
        "model_4 = Model(\n",
        "    inputs={\n",
        "        'data': data,\n",
        "        'edges': edge,\n",
        "        'node2grah': node2graph,\n",
        "    },\n",
        "    outputs=pred\n",
        ")\n",
        "model_4.summary()"
      ],
      "metadata": {
        "id": "O1_Izr-mto-6"
      },
      "execution_count": null,
      "outputs": []
    },
    {
      "cell_type": "code",
      "source": [
        "model_4.compile(\n",
        "    loss='BinaryCrossentropy',\n",
        "    optimizer = Adam(),\n",
        "    metrics=['AUC']\n",
        ")"
      ],
      "metadata": {
        "id": "UQEP03RHtuUh"
      },
      "execution_count": null,
      "outputs": []
    },
    {
      "cell_type": "code",
      "source": [
        "import math\n",
        "from keras.callbacks import ModelCheckpoint, EarlyStopping\n",
        "\n",
        "batch_size = 64\n",
        "num_batchs = math.ceil(len(training_set) / batch_size)\n",
        "num_batchs_validation = math.ceil(len(training_set) / batch_size)\n",
        "\n",
        "early_stopping = EarlyStopping(monitor='val_auc', patience=5, mode = 'max')\n",
        "\n",
        "history_4 = model_4.fit(\n",
        "    gen_batch(\n",
        "        training_set, batch_size=batch_size, repeat=True\n",
        "    ),\n",
        "    steps_per_epoch=num_batchs,\n",
        "    epochs=20,\n",
        "    validation_data=gen_batch(\n",
        "        validation_set, batch_size=batch_size, repeat=True\n",
        "    ),\n",
        "    validation_steps=num_batchs_validation,\n",
        "    callbacks=[early_stopping]\n",
        ")"
      ],
      "metadata": {
        "id": "w2oaMRxGt2FI"
      },
      "execution_count": null,
      "outputs": []
    },
    {
      "cell_type": "code",
      "source": [
        "y_pred_4 = model_4.predict(\n",
        "    gen_batch(testing_set, batch_size=64, shuffle=False)\n",
        ")\n",
        "print(y_pred_4.shape)\n",
        "y_pred_4 = np.reshape(y_pred_4, -1)"
      ],
      "metadata": {
        "id": "aFYHLHCVuThc"
      },
      "execution_count": null,
      "outputs": []
    },
    {
      "cell_type": "code",
      "source": [
        "# summarize history for AUC Score\n",
        "plt.plot(history_4.history['auc'])\n",
        "plt.plot(history_4.history['val_auc'])\n",
        "plt.title('Model AUC')\n",
        "plt.ylabel('AUC')\n",
        "plt.xlabel('Epoch')\n",
        "plt.legend(['Train', 'Validation'], loc='upper left')\n",
        "plt.show()"
      ],
      "metadata": {
        "id": "EucOiDZVuYof"
      },
      "execution_count": null,
      "outputs": []
    },
    {
      "cell_type": "code",
      "source": [
        "# summarize history for loss\n",
        "plt.plot(history_4.history['loss'])\n",
        "plt.plot(history_4.history['val_loss'])\n",
        "plt.title('model loss')\n",
        "plt.ylabel('loss')\n",
        "plt.xlabel('epoch')\n",
        "plt.legend(['Train', 'Validation'], loc='upper left')\n",
        "plt.show()"
      ],
      "metadata": {
        "id": "D9gNqrAnuZsv"
      },
      "execution_count": null,
      "outputs": []
    },
    {
      "cell_type": "code",
      "source": [
        "# define function to save the csv file of the result after each trial\n",
        "import pandas as pd \n",
        "submission = pd.DataFrame({'label':y_pred})\n",
        "submission.index.name = 'id'\n",
        "submission.to_csv('trial_4.csv')"
      ],
      "metadata": {
        "id": "x7ehNoYUZsQt"
      },
      "execution_count": null,
      "outputs": []
    },
    {
      "cell_type": "markdown",
      "source": [
        "#### ⚫ **OBSERVATION:**\n",
        "\n",
        "* Overall, we notice that using **GGNN** model it is not working very well with this type of dataset.\n",
        "* So, We will try to change it and using **RGCN**, may these changes increse the complexity of the model."
      ],
      "metadata": {
        "id": "Ide202bOwL7s"
      }
    },
    {
      "cell_type": "markdown",
      "source": [
        "## III.III) Using RGCN Message-Passing Mechanism\n",
        "\n"
      ],
      "metadata": {
        "id": "sv3Trm-cgyFn"
      }
    },
    {
      "cell_type": "markdown",
      "source": [
        "⭐ In the next **3 trials** we will use **RGCN** Message-Passing Mechanism that is better suited for modeling static graphs, where the structure of the graph remains fixed. RGCNs use convolutional operations to propagate information between nodes based on their structural relationships, but this approach is less effective for modeling dynamic graphs.\n",
        "\n",
        "⭐ So, I expect that this mechanism will be more accurate in our type of data and it will lead to improve model performance."
      ],
      "metadata": {
        "id": "_EwUrxuW4ppn"
      }
    },
    {
      "cell_type": "markdown",
      "source": [
        "### III.III.I) Trial #5\n",
        "\n",
        "\n"
      ],
      "metadata": {
        "id": "nlhWaE_MgyYP"
      }
    },
    {
      "cell_type": "markdown",
      "source": [
        "#### ▶ In **Trial #5**: \n",
        "* Because of using **GGNN** is not accurate any more with this type of data, so We will use **RGCN** **Message-Passing Mechanism** and sets the output of all message passing layers with size 64 and 8 layers.\n"
      ],
      "metadata": {
        "id": "6PEKjjk76_1Y"
      }
    },
    {
      "cell_type": "code",
      "source": [
        "from tf2_gnn.layers.gnn import GNN, GNNInput\n",
        "\n",
        "keras.backend.clear_session()\n",
        "\n",
        "data = keras.Input(batch_shape=(None,))\n",
        "\n",
        "# the first dim is different to the previous one. it is the total number of edges in this batch\n",
        "edge = keras.Input(batch_shape=(None, 2), dtype=tf.int32)\n",
        "node2graph = keras.Input(batch_shape=(None,), dtype=tf.int32)\n",
        "embeded = Embedding(tokenizer.num_words, 20)(data)\n",
        "\n",
        "# number of graphs (number of samples)\n",
        "num_graph = tf.reduce_max(node2graph)+1\n",
        "\n",
        "gnn_input = GNNInput(\n",
        "    node_features=embeded,\n",
        "    adjacency_lists=(edge,),\n",
        "    node_to_graph_map=node2graph, \n",
        "    num_graphs=num_graph,\n",
        ")\n",
        "\n",
        "# https://github.com/microsoft/tf2-gnn/blob/master/tf2_gnn/layers/gnn.py\n",
        "params = GNN.get_default_hyperparameters()\n",
        "params[\"hidden_dim\"] ,params['message_calculation_class'], params['dense_intermediate_layer_activation'], params['num_layers'] = 64, 'RGCN', 'tanh', 12\n",
        "\n",
        "gnn_layer = GNN(params)\n",
        "gnn_out = gnn_layer(gnn_input)\n",
        "\n",
        "print('gnn_out', gnn_out)\n",
        "\n",
        "# https://www.tensorflow.org/api_docs/python/tf/math/segment_mean\n",
        "avg = segment_mean(\n",
        "    data=gnn_out,\n",
        "    segment_ids=node2graph\n",
        ")\n",
        "print('mean:', avg)\n",
        "\n",
        "pred = Dense(1, activation='sigmoid')(avg)\n",
        "print('pred:', pred)\n",
        "\n",
        "model_5 = Model(\n",
        "    inputs={\n",
        "        'data': data,\n",
        "        'edges': edge,\n",
        "        'node2grah': node2graph,\n",
        "    },\n",
        "    outputs=pred\n",
        ")\n",
        "model_5.summary()"
      ],
      "metadata": {
        "colab": {
          "base_uri": "https://localhost:8080/"
        },
        "id": "KC_zF1_r6jRs",
        "outputId": "17f8d935-195b-4fd6-f582-60ad45d4b29a"
      },
      "execution_count": 16,
      "outputs": [
        {
          "output_type": "stream",
          "name": "stdout",
          "text": [
            "gnn_out KerasTensor(type_spec=TensorSpec(shape=(None, 64), dtype=tf.float32, name=None), name='gnn/StatefulPartitionedCall:0', description=\"created by layer 'gnn'\")\n",
            "mean: KerasTensor(type_spec=TensorSpec(shape=(None, 64), dtype=tf.float32, name=None), name='tf.math.segment_mean/SegmentMean:0', description=\"created by layer 'tf.math.segment_mean'\")\n",
            "pred: KerasTensor(type_spec=TensorSpec(shape=(None, 1), dtype=tf.float32, name=None), name='dense/Sigmoid:0', description=\"created by layer 'dense'\")\n",
            "Model: \"model\"\n",
            "__________________________________________________________________________________________________\n",
            " Layer (type)                   Output Shape         Param #     Connected to                     \n",
            "==================================================================================================\n",
            " input_3 (InputLayer)           [(None,)]            0           []                               \n",
            "                                                                                                  \n",
            " input_1 (InputLayer)           [(None,)]            0           []                               \n",
            "                                                                                                  \n",
            " tf.math.reduce_max (TFOpLambda  ()                  0           ['input_3[0][0]']                \n",
            " )                                                                                                \n",
            "                                                                                                  \n",
            " embedding (Embedding)          (None, 20)           10000       ['input_1[0][0]']                \n",
            "                                                                                                  \n",
            " input_2 (InputLayer)           [(None, 2)]          0           []                               \n",
            "                                                                                                  \n",
            " tf.__operators__.add (TFOpLamb  ()                  0           ['tf.math.reduce_max[0][0]']     \n",
            " da)                                                                                              \n",
            "                                                                                                  \n",
            " gnn (GNN)                      (None, 64)           303488      ['embedding[0][0]',              \n",
            "                                                                  'input_2[0][0]',                \n",
            "                                                                  'input_3[0][0]',                \n",
            "                                                                  'tf.__operators__.add[0][0]']   \n",
            "                                                                                                  \n",
            " tf.math.segment_mean (TFOpLamb  (None, 64)          0           ['gnn[0][0]',                    \n",
            " da)                                                              'input_3[0][0]']                \n",
            "                                                                                                  \n",
            " dense (Dense)                  (None, 1)            65          ['tf.math.segment_mean[0][0]']   \n",
            "                                                                                                  \n",
            "==================================================================================================\n",
            "Total params: 313,553\n",
            "Trainable params: 313,553\n",
            "Non-trainable params: 0\n",
            "__________________________________________________________________________________________________\n"
          ]
        }
      ]
    },
    {
      "cell_type": "code",
      "source": [
        "model_5.compile(\n",
        "    loss='BinaryCrossentropy',\n",
        "    optimizer = Adam(),\n",
        "    metrics=['AUC']\n",
        ")"
      ],
      "metadata": {
        "id": "Fx9l9LdOBXke"
      },
      "execution_count": 17,
      "outputs": []
    },
    {
      "cell_type": "code",
      "source": [
        "import math\n",
        "from keras.callbacks import ModelCheckpoint, EarlyStopping\n",
        "\n",
        "batch_size = 64\n",
        "num_batchs = math.ceil(len(training_set) / batch_size)\n",
        "num_batchs_validation = math.ceil(len(training_set) / batch_size)\n",
        "\n",
        "early_stopping = EarlyStopping(monitor='val_auc', patience=5, mode = 'max')\n",
        "\n",
        "history_5 = model_5.fit(\n",
        "    gen_batch(\n",
        "        training_set, batch_size=batch_size, repeat=True\n",
        "    ),\n",
        "    steps_per_epoch=num_batchs,\n",
        "    epochs=20,\n",
        "    validation_data=gen_batch(\n",
        "        validation_set, batch_size=batch_size, repeat=True\n",
        "    ),\n",
        "    validation_steps=num_batchs_validation,\n",
        "    callbacks=[early_stopping]\n",
        ")"
      ],
      "metadata": {
        "colab": {
          "base_uri": "https://localhost:8080/"
        },
        "id": "39ev8ugUBaEC",
        "outputId": "cd115baf-80d0-45d9-faec-2818d9deb617"
      },
      "execution_count": null,
      "outputs": [
        {
          "output_type": "stream",
          "name": "stdout",
          "text": [
            "Epoch 1/20\n",
            "633/633 [==============================] - 271s 411ms/step - loss: 0.6488 - auc: 0.6620 - val_loss: 0.6250 - val_auc: 0.7098\n",
            "Epoch 2/20\n",
            "633/633 [==============================] - 224s 355ms/step - loss: 0.6104 - auc: 0.7199 - val_loss: 0.6081 - val_auc: 0.7306\n",
            "Epoch 3/20\n",
            "633/633 [==============================] - 259s 410ms/step - loss: 0.6005 - auc: 0.7336 - val_loss: 0.5950 - val_auc: 0.7390\n",
            "Epoch 4/20\n",
            "633/633 [==============================] - 227s 359ms/step - loss: 0.5867 - auc: 0.7499 - val_loss: 0.5820 - val_auc: 0.7587\n",
            "Epoch 5/20\n",
            "633/633 [==============================] - 226s 357ms/step - loss: 0.5776 - auc: 0.7596 - val_loss: 0.5655 - val_auc: 0.7744\n",
            "Epoch 6/20\n",
            "633/633 [==============================] - 260s 411ms/step - loss: 0.5647 - auc: 0.7764 - val_loss: 0.5592 - val_auc: 0.7860\n",
            "Epoch 7/20\n",
            "633/633 [==============================] - 260s 410ms/step - loss: 0.5507 - auc: 0.7923 - val_loss: 0.5446 - val_auc: 0.7988\n",
            "Epoch 8/20\n",
            "633/633 [==============================] - 259s 410ms/step - loss: 0.5412 - auc: 0.8013 - val_loss: 0.5419 - val_auc: 0.8022\n",
            "Epoch 9/20\n",
            "633/633 [==============================] - 261s 413ms/step - loss: 0.5326 - auc: 0.8095 - val_loss: 0.5389 - val_auc: 0.8038\n",
            "Epoch 10/20\n",
            "633/633 [==============================] - 260s 411ms/step - loss: 0.5225 - auc: 0.8182 - val_loss: 0.5271 - val_auc: 0.8186\n",
            "Epoch 11/20\n",
            "633/633 [==============================] - 259s 410ms/step - loss: 0.5131 - auc: 0.8274 - val_loss: 0.5044 - val_auc: 0.8343\n",
            "Epoch 12/20\n",
            "633/633 [==============================] - 226s 358ms/step - loss: 0.5056 - auc: 0.8335 - val_loss: 0.4921 - val_auc: 0.8457\n",
            "Epoch 13/20\n",
            "633/633 [==============================] - 225s 355ms/step - loss: 0.4841 - auc: 0.8500 - val_loss: 0.4825 - val_auc: 0.8554\n",
            "Epoch 14/20\n",
            "369/633 [================>.............] - ETA: 1:15 - loss: 0.4682 - auc: 0.8603"
          ]
        }
      ]
    },
    {
      "cell_type": "code",
      "source": [
        "y_pred_5 = model_5.predict(\n",
        "    gen_batch(testing_set, batch_size=64, shuffle=False)\n",
        ")\n",
        "print(y_pred_5.shape)\n",
        "y_pred_5 = np.reshape(y_pred_5, -1)"
      ],
      "metadata": {
        "id": "tdJgX4HWBcFu"
      },
      "execution_count": null,
      "outputs": []
    },
    {
      "cell_type": "code",
      "source": [
        "# summarize history for AUC Score\n",
        "plt.plot(history_5.history['auc'])\n",
        "plt.plot(history_5.history['val_auc'])\n",
        "plt.title('Model AUC')\n",
        "plt.ylabel('AUC')\n",
        "plt.xlabel('Epoch')\n",
        "plt.legend(['Train', 'Validation'], loc='upper left')\n",
        "plt.show()"
      ],
      "metadata": {
        "id": "YVqkNBTZBgEH"
      },
      "execution_count": null,
      "outputs": []
    },
    {
      "cell_type": "code",
      "source": [
        "# summarize history for loss\n",
        "plt.plot(history_5.history['loss'])\n",
        "plt.plot(history_5.history['val_loss'])\n",
        "plt.title('model loss')\n",
        "plt.ylabel('loss')\n",
        "plt.xlabel('epoch')\n",
        "plt.legend(['Train', 'Validation'], loc='upper left')\n",
        "plt.show()"
      ],
      "metadata": {
        "id": "ZuElBYWDBihw"
      },
      "execution_count": null,
      "outputs": []
    },
    {
      "cell_type": "code",
      "source": [
        "# define function to save the csv file of the result after each trial\n",
        "import pandas as pd \n",
        "submission = pd.DataFrame({'label':y_pred})\n",
        "submission.index.name = 'id'\n",
        "submission.to_csv('trial_5.csv')"
      ],
      "metadata": {
        "id": "FhNPKcBRZzeO"
      },
      "execution_count": null,
      "outputs": []
    },
    {
      "cell_type": "markdown",
      "source": [
        "### III.III.II) Trial #6\n"
      ],
      "metadata": {
        "id": "W-JdM93JhY41"
      }
    },
    {
      "cell_type": "markdown",
      "source": [
        "#### ▶ In **Trial #6**: \n",
        "* We will increase the number of Dense layer which we wil add **32 Dense** layer with **RELU** activation function, the same parameters in **Trial#3** but using **RGCN** may these changes increse the complexity of the model."
      ],
      "metadata": {
        "id": "fyLMxPtt_uiN"
      }
    },
    {
      "cell_type": "code",
      "source": [
        "from tf2_gnn.layers.gnn import GNN, GNNInput\n",
        "\n",
        "keras.backend.clear_session()\n",
        "\n",
        "data = keras.Input(batch_shape=(None,))\n",
        "\n",
        "# the first dim is different to the previous one. it is the total number of edges in this batch\n",
        "edge = keras.Input(batch_shape=(None, 2), dtype=tf.int32)\n",
        "node2graph = keras.Input(batch_shape=(None,), dtype=tf.int32)\n",
        "embeded = Embedding(tokenizer.num_words, 20)(data)\n",
        "\n",
        "# number of graphs (number of samples)\n",
        "num_graph = tf.reduce_max(node2graph)+1\n",
        "\n",
        "gnn_input = GNNInput(\n",
        "    node_features=embeded,\n",
        "    adjacency_lists=(edge,),\n",
        "    node_to_graph_map=node2graph, \n",
        "    num_graphs=num_graph,\n",
        ")\n",
        "\n",
        "# https://github.com/microsoft/tf2-gnn/blob/master/tf2_gnn/layers/gnn.py\n",
        "params = GNN.get_default_hyperparameters()\n",
        "params[\"hidden_dim\"] ,params['message_calculation_class'], params['dense_intermediate_layer_activation'], params['num_layers'] = 64, 'RGCN', 'tanh', 8\n",
        "\n",
        "gnn_layer = GNN(params)\n",
        "gnn_out = gnn_layer(gnn_input)\n",
        "\n",
        "print('gnn_out', gnn_out)\n",
        "\n",
        "# https://www.tensorflow.org/api_docs/python/tf/math/segment_mean\n",
        "avg = segment_mean(\n",
        "    data=gnn_out,\n",
        "    segment_ids=node2graph\n",
        ")\n",
        "print('mean:', avg)\n",
        "\n",
        "Denlay = Dense(32, activation='relu')(avg)\n",
        "pred = Dense(1, activation='sigmoid')(Denlay)\n",
        "print('pred:', pred)\n",
        "\n",
        "model_6 = Model(\n",
        "    inputs={\n",
        "        'data': data,\n",
        "        'edges': edge,\n",
        "        'node2grah': node2graph,\n",
        "    },\n",
        "    outputs=pred\n",
        ")\n",
        "model_6.summary()"
      ],
      "metadata": {
        "id": "w9SoFP8W_gMT"
      },
      "execution_count": null,
      "outputs": []
    },
    {
      "cell_type": "code",
      "source": [
        "model_6.compile(\n",
        "    loss='BinaryCrossentropy',\n",
        "    optimizer = Adam(),\n",
        "    metrics=['AUC']\n",
        ")"
      ],
      "metadata": {
        "id": "xkfQ2-ihB_6b"
      },
      "execution_count": null,
      "outputs": []
    },
    {
      "cell_type": "code",
      "source": [
        "import math\n",
        "from keras.callbacks import ModelCheckpoint, EarlyStopping\n",
        "\n",
        "batch_size = 64\n",
        "num_batchs = math.ceil(len(training_set) / batch_size)\n",
        "num_batchs_validation = math.ceil(len(training_set) / batch_size)\n",
        "\n",
        "early_stopping = EarlyStopping(monitor='val_auc', patience=5, mode = 'max')\n",
        "\n",
        "history_6 = model_6.fit(\n",
        "    gen_batch(\n",
        "        training_set, batch_size=batch_size, repeat=True\n",
        "    ),\n",
        "    steps_per_epoch=num_batchs,\n",
        "    epochs=20,\n",
        "    validation_data=gen_batch(\n",
        "        validation_set, batch_size=batch_size, repeat=True\n",
        "    ),\n",
        "    validation_steps=num_batchs_validation,\n",
        "    callbacks=[early_stopping]\n",
        ")"
      ],
      "metadata": {
        "id": "f41_F3aGCFqK"
      },
      "execution_count": null,
      "outputs": []
    },
    {
      "cell_type": "code",
      "source": [
        "y_pred_6 = model_6.predict(\n",
        "    gen_batch(testing_set, batch_size=64, shuffle=False)\n",
        ")\n",
        "print(y_pred_6.shape)\n",
        "y_pred_6 = np.reshape(y_pred_6, -1)"
      ],
      "metadata": {
        "id": "3iUjoMkxCIsS"
      },
      "execution_count": null,
      "outputs": []
    },
    {
      "cell_type": "code",
      "source": [
        "# summarize history for AUC Score\n",
        "plt.plot(history_6.history['auc'])\n",
        "plt.plot(history_6.history['val_auc'])\n",
        "plt.title('Model AUC')\n",
        "plt.ylabel('AUC')\n",
        "plt.xlabel('Epoch')\n",
        "plt.legend(['Train', 'Validation'], loc='upper left')\n",
        "plt.show()"
      ],
      "metadata": {
        "id": "jXw8WRlTCPJ7"
      },
      "execution_count": null,
      "outputs": []
    },
    {
      "cell_type": "code",
      "source": [
        "# summarize history for loss\n",
        "plt.plot(history_6.history['loss'])\n",
        "plt.plot(history_6.history['val_loss'])\n",
        "plt.title('model loss')\n",
        "plt.ylabel('loss')\n",
        "plt.xlabel('epoch')\n",
        "plt.legend(['Train', 'Validation'], loc='upper left')\n",
        "plt.show()"
      ],
      "metadata": {
        "id": "cpraxD81CRgk"
      },
      "execution_count": null,
      "outputs": []
    },
    {
      "cell_type": "code",
      "source": [
        "# define function to save the csv file of the result after each trial\n",
        "import pandas as pd \n",
        "submission = pd.DataFrame({'label':y_pred})\n",
        "submission.index.name = 'id'\n",
        "submission.to_csv('trial_6.csv')"
      ],
      "metadata": {
        "id": "HfSonmEBZ4fB"
      },
      "execution_count": null,
      "outputs": []
    },
    {
      "cell_type": "markdown",
      "source": [
        "### III.III.III) Trial #7"
      ],
      "metadata": {
        "id": "wqog1esyhY8F"
      }
    },
    {
      "cell_type": "markdown",
      "source": [
        "#### ▶ In **Trial #7**: \n",
        "* We will use **RELU** activation function in **dense_intermediate_layer_activation** parameter."
      ],
      "metadata": {
        "id": "TXsZitxmAsAQ"
      }
    },
    {
      "cell_type": "code",
      "source": [
        "from tf2_gnn.layers.gnn import GNN, GNNInput\n",
        "\n",
        "keras.backend.clear_session()\n",
        "\n",
        "data = keras.Input(batch_shape=(None,))\n",
        "\n",
        "# the first dim is different to the previous one. it is the total number of edges in this batch\n",
        "edge = keras.Input(batch_shape=(None, 2), dtype=tf.int32)\n",
        "node2graph = keras.Input(batch_shape=(None,), dtype=tf.int32)\n",
        "embeded = Embedding(tokenizer.num_words, 20)(data)\n",
        "\n",
        "# number of graphs (number of samples)\n",
        "num_graph = tf.reduce_max(node2graph)+1\n",
        "\n",
        "gnn_input = GNNInput(\n",
        "    node_features=embeded,\n",
        "    adjacency_lists=(edge,),\n",
        "    node_to_graph_map=node2graph, \n",
        "    num_graphs=num_graph,\n",
        ")\n",
        "\n",
        "# https://github.com/microsoft/tf2-gnn/blob/master/tf2_gnn/layers/gnn.py\n",
        "params = GNN.get_default_hyperparameters()\n",
        "params[\"hidden_dim\"] ,params['message_calculation_class'], params['dense_intermediate_layer_activation'], params['num_layers'] = 64, 'RGCN', 'relu', 8\n",
        "\n",
        "gnn_layer = GNN(params)\n",
        "gnn_out = gnn_layer(gnn_input)\n",
        "\n",
        "print('gnn_out', gnn_out)\n",
        "\n",
        "# https://www.tensorflow.org/api_docs/python/tf/math/segment_mean\n",
        "avg = segment_mean(\n",
        "    data=gnn_out,\n",
        "    segment_ids=node2graph\n",
        ")\n",
        "print('mean:', avg)\n",
        "\n",
        "Denlay = Dense(32, activation='relu')(avg)\n",
        "pred = Dense(1, activation='sigmoid')(Denlay)\n",
        "print('pred:', pred)\n",
        "\n",
        "model_7 = Model(\n",
        "    inputs={\n",
        "        'data': data,\n",
        "        'edges': edge,\n",
        "        'node2grah': node2graph,\n",
        "    },\n",
        "    outputs=pred\n",
        ")\n",
        "model_7.summary()"
      ],
      "metadata": {
        "id": "gwh2yWldAkPV"
      },
      "execution_count": null,
      "outputs": []
    },
    {
      "cell_type": "code",
      "source": [
        "model_7.compile(\n",
        "    loss='BinaryCrossentropy',\n",
        "    optimizer = Adam(),\n",
        "    metrics=['AUC']\n",
        ")"
      ],
      "metadata": {
        "id": "gEI_iG1wCBs4"
      },
      "execution_count": null,
      "outputs": []
    },
    {
      "cell_type": "code",
      "source": [
        "import math\n",
        "from keras.callbacks import ModelCheckpoint, EarlyStopping\n",
        "\n",
        "batch_size = 64\n",
        "num_batchs = math.ceil(len(training_set) / batch_size)\n",
        "num_batchs_validation = math.ceil(len(training_set) / batch_size)\n",
        "\n",
        "early_stopping = EarlyStopping(monitor='val_auc', patience=5, mode = 'max')\n",
        "\n",
        "history_7 = model_7.fit(\n",
        "    gen_batch(\n",
        "        training_set, batch_size=batch_size, repeat=True\n",
        "    ),\n",
        "    steps_per_epoch=num_batchs,\n",
        "    epochs=20,\n",
        "    validation_data=gen_batch(\n",
        "        validation_set, batch_size=batch_size, repeat=True\n",
        "    ),\n",
        "    validation_steps=num_batchs_validation,\n",
        "    callbacks=[early_stopping]\n",
        ")"
      ],
      "metadata": {
        "id": "UqcvXiESCEMY"
      },
      "execution_count": null,
      "outputs": []
    },
    {
      "cell_type": "code",
      "source": [
        "y_pred_7 = model_7.predict(\n",
        "    gen_batch(testing_set, batch_size=64, shuffle=False)\n",
        ")\n",
        "print(y_pred_7.shape)\n",
        "y_pred_7 = np.reshape(y_pred_7, -1)"
      ],
      "metadata": {
        "id": "o5Ix0wx8CKut"
      },
      "execution_count": null,
      "outputs": []
    },
    {
      "cell_type": "code",
      "source": [
        "# summarize history for AUC Score\n",
        "plt.plot(history_7.history['auc'])\n",
        "plt.plot(history_7.history['val_auc'])\n",
        "plt.title('Model AUC')\n",
        "plt.ylabel('AUC')\n",
        "plt.xlabel('Epoch')\n",
        "plt.legend(['Train', 'Validation'], loc='upper left')\n",
        "plt.show()"
      ],
      "metadata": {
        "id": "5BVF6P6mCNEI"
      },
      "execution_count": null,
      "outputs": []
    },
    {
      "cell_type": "code",
      "source": [
        "# summarize history for loss\n",
        "plt.plot(history_7.history['loss'])\n",
        "plt.plot(history_7.history['val_loss'])\n",
        "plt.title('model loss')\n",
        "plt.ylabel('loss')\n",
        "plt.xlabel('epoch')\n",
        "plt.legend(['Train', 'Validation'], loc='upper left')\n",
        "plt.show()"
      ],
      "metadata": {
        "id": "hg_RUXFKCTZQ"
      },
      "execution_count": null,
      "outputs": []
    },
    {
      "cell_type": "code",
      "source": [
        "# define function to save the csv file of the result after each trial\n",
        "import pandas as pd \n",
        "submission = pd.DataFrame({'label':y_pred})\n",
        "submission.index.name = 'id'\n",
        "submission.to_csv('trial_7.csv')"
      ],
      "metadata": {
        "id": "9lAWv6MPZ-WC"
      },
      "execution_count": null,
      "outputs": []
    },
    {
      "cell_type": "markdown",
      "source": [
        "#### ⚫ **OBSERVATION:**\n",
        "\n",
        "\n",
        "* Overall, we notice that using **RGCN** model made the **AUC** Score is **88.03%** which is much better than using **GGNN** with this type of dataset."
      ],
      "metadata": {
        "id": "rzQG6WvIxbA_"
      }
    },
    {
      "cell_type": "markdown",
      "source": [
        "## III.IV) Using RGAT Message-Passing Mechanism\n"
      ],
      "metadata": {
        "id": "n4mxEyP8huHj"
      }
    },
    {
      "cell_type": "markdown",
      "source": [
        "⭐ In the next **3 trials** we will use **RGAT** Message-Passing Mechanism that is stands for Relational Graph Attention Network. It is a type of graph neural network that is used for modeling data with complex relational structures, such as social networks or knowledge graphs.\n",
        "\n",
        "⭐ The RGAT network uses attention mechanisms to aggregate information from the neighboring nodes in a graph, with the attention weights learned during the training process. This allows the model to focus on the most relevant nodes and edges in the graph when making predictions or classifications.\n",
        "\n",
        "⭐ The RGAT network has been used in various applications, including recommendation systems, natural language processing, and drug discovery. It has been shown to outperform other state-of-the-art graph neural network models in certain tasks, such as link prediction and node classification.\n",
        "\n",
        "\n",
        "👉🏻 So, let's try it in our dataset and see if it will be more accurate or not."
      ],
      "metadata": {
        "id": "4CqqmrKJ2oBw"
      }
    },
    {
      "cell_type": "markdown",
      "source": [
        "### III.IV.I) Trial #8"
      ],
      "metadata": {
        "id": "FqlsZlxNiXrc"
      }
    },
    {
      "cell_type": "code",
      "source": [
        "from tf2_gnn.layers.gnn import GNN, GNNInput\n",
        "\n",
        "keras.backend.clear_session()\n",
        "\n",
        "data = keras.Input(batch_shape=(None,))\n",
        "\n",
        "# the first dim is different to the previous one. it is the total number of edges in this batch\n",
        "edge = keras.Input(batch_shape=(None, 2), dtype=tf.int32)\n",
        "node2graph = keras.Input(batch_shape=(None,), dtype=tf.int32)\n",
        "embeded = Embedding(tokenizer.num_words, 20)(data)\n",
        "\n",
        "# number of graphs (number of samples)\n",
        "num_graph = tf.reduce_max(node2graph)+1\n",
        "\n",
        "gnn_input = GNNInput(\n",
        "    node_features=embeded,\n",
        "    adjacency_lists=(edge,),\n",
        "    node_to_graph_map=node2graph, \n",
        "    num_graphs=num_graph,\n",
        ")\n",
        "\n",
        "# https://github.com/microsoft/tf2-gnn/blob/master/tf2_gnn/layers/gnn.py\n",
        "params = GNN.get_default_hyperparameters()\n",
        "params[\"hidden_dim\"] ,params['message_calculation_class'], params['dense_intermediate_layer_activation'], params['num_layers'] = 64, 'RGAT', 'tanh', 12\n",
        "\n",
        "gnn_layer = GNN(params)\n",
        "gnn_out = gnn_layer(gnn_input)\n",
        "\n",
        "print('gnn_out', gnn_out)\n",
        "\n",
        "# https://www.tensorflow.org/api_docs/python/tf/math/segment_mean\n",
        "avg = segment_mean(\n",
        "    data=gnn_out,\n",
        "    segment_ids=node2graph\n",
        ")\n",
        "print('mean:', avg)\n",
        "\n",
        "pred = Dense(1, activation='sigmoid')(avg)\n",
        "print('pred:', pred)\n",
        "\n",
        "model_8 = Model(\n",
        "    inputs={\n",
        "        'data': data,\n",
        "        'edges': edge,\n",
        "        'node2grah': node2graph,\n",
        "    },\n",
        "    outputs=pred\n",
        ")\n",
        "model_8.summary()"
      ],
      "metadata": {
        "id": "aB1Dc2dJY8FM"
      },
      "execution_count": null,
      "outputs": []
    },
    {
      "cell_type": "code",
      "source": [
        "model_8.compile(\n",
        "    loss='BinaryCrossentropy',\n",
        "    optimizer = Adam(),\n",
        "    metrics=['AUC']\n",
        ")"
      ],
      "metadata": {
        "id": "WmklmfrzZAiq"
      },
      "execution_count": null,
      "outputs": []
    },
    {
      "cell_type": "code",
      "source": [
        "import math\n",
        "from keras.callbacks import ModelCheckpoint, EarlyStopping\n",
        "\n",
        "batch_size = 64\n",
        "num_batchs = math.ceil(len(training_set) / batch_size)\n",
        "num_batchs_validation = math.ceil(len(training_set) / batch_size)\n",
        "\n",
        "early_stopping = EarlyStopping(monitor='val_auc', patience=5, mode = 'max')\n",
        "\n",
        "history_8 = model_8.fit(\n",
        "    gen_batch(\n",
        "        training_set, batch_size=batch_size, repeat=True\n",
        "    ),\n",
        "    steps_per_epoch=num_batchs,\n",
        "    epochs=20,\n",
        "    validation_data=gen_batch(\n",
        "        validation_set, batch_size=batch_size, repeat=True\n",
        "    ),\n",
        "    validation_steps=num_batchs_validation,\n",
        "    callbacks=[early_stopping]\n",
        ")"
      ],
      "metadata": {
        "id": "ks4orX-oZBsF"
      },
      "execution_count": null,
      "outputs": []
    },
    {
      "cell_type": "code",
      "source": [
        "y_pred_8 = model_8.predict(\n",
        "    gen_batch(testing_set, batch_size=64, shuffle=False)\n",
        ")\n",
        "print(y_pred_8.shape)\n",
        "y_pred_8 = np.reshape(y_pred_8, -1)"
      ],
      "metadata": {
        "id": "q2KRSeiFZF1F"
      },
      "execution_count": null,
      "outputs": []
    },
    {
      "cell_type": "code",
      "source": [
        "# summarize history for AUC Score\n",
        "plt.plot(history_8.history['auc'])\n",
        "plt.plot(history_8.history['val_auc'])\n",
        "plt.title('Model AUC')\n",
        "plt.ylabel('AUC')\n",
        "plt.xlabel('Epoch')\n",
        "plt.legend(['Train', 'Validation'], loc='upper left')\n",
        "plt.show()"
      ],
      "metadata": {
        "id": "GB-UaSMNZKy3"
      },
      "execution_count": null,
      "outputs": []
    },
    {
      "cell_type": "code",
      "source": [
        "# summarize history for loss\n",
        "plt.plot(history_8.history['loss'])\n",
        "plt.plot(history_8.history['val_loss'])\n",
        "plt.title('model loss')\n",
        "plt.ylabel('loss')\n",
        "plt.xlabel('epoch')\n",
        "plt.legend(['Train', 'Validation'], loc='upper left')\n",
        "plt.show()"
      ],
      "metadata": {
        "id": "-gR0hLSDZLAc"
      },
      "execution_count": null,
      "outputs": []
    },
    {
      "cell_type": "code",
      "source": [
        "# define function to save the csv file of the result after each trial\n",
        "import pandas as pd \n",
        "submission = pd.DataFrame({'label':y_pred})\n",
        "submission.index.name = 'id'\n",
        "submission.to_csv('trial_8.csv')"
      ],
      "metadata": {
        "id": "0V4T580QaCO1"
      },
      "execution_count": null,
      "outputs": []
    },
    {
      "cell_type": "markdown",
      "source": [
        "### III.IV.II) Trial #9"
      ],
      "metadata": {
        "id": "1MiDHSjAieXZ"
      }
    },
    {
      "cell_type": "markdown",
      "source": [
        "#### ▶ In **Trial #9**: \n",
        "* We will increase the number of Dense layer which we wil add **32 Dense** layer with **RELU** activation function, the same parameters in **Trial#6** but using **RGAT** may these changes increse the complexity of the model."
      ],
      "metadata": {
        "id": "U08nG3-b1YPX"
      }
    },
    {
      "cell_type": "code",
      "source": [
        "from tf2_gnn.layers.gnn import GNN, GNNInput\n",
        "\n",
        "keras.backend.clear_session()\n",
        "\n",
        "data = keras.Input(batch_shape=(None,))\n",
        "\n",
        "# the first dim is different to the previous one. it is the total number of edges in this batch\n",
        "edge = keras.Input(batch_shape=(None, 2), dtype=tf.int32)\n",
        "node2graph = keras.Input(batch_shape=(None,), dtype=tf.int32)\n",
        "embeded = Embedding(tokenizer.num_words, 20)(data)\n",
        "\n",
        "# number of graphs (number of samples)\n",
        "num_graph = tf.reduce_max(node2graph)+1\n",
        "\n",
        "gnn_input = GNNInput(\n",
        "    node_features=embeded,\n",
        "    adjacency_lists=(edge,),\n",
        "    node_to_graph_map=node2graph, \n",
        "    num_graphs=num_graph,\n",
        ")\n",
        "\n",
        "# https://github.com/microsoft/tf2-gnn/blob/master/tf2_gnn/layers/gnn.py\n",
        "params = GNN.get_default_hyperparameters()\n",
        "params[\"hidden_dim\"] ,params['message_calculation_class'], params['dense_intermediate_layer_activation'], params['num_layers'] = 64, 'RGAT', 'tanh', 8\n",
        "\n",
        "gnn_layer = GNN(params)\n",
        "gnn_out = gnn_layer(gnn_input)\n",
        "\n",
        "print('gnn_out', gnn_out)\n",
        "\n",
        "# https://www.tensorflow.org/api_docs/python/tf/math/segment_mean\n",
        "avg = segment_mean(\n",
        "    data=gnn_out,\n",
        "    segment_ids=node2graph\n",
        ")\n",
        "print('mean:', avg)\n",
        "\n",
        "Denlay = Dense(32, activation='relu')(avg)\n",
        "pred = Dense(1, activation='sigmoid')(Denlay)\n",
        "print('pred:', pred)\n",
        "\n",
        "model_9 = Model(\n",
        "    inputs={\n",
        "        'data': data,\n",
        "        'edges': edge,\n",
        "        'node2grah': node2graph,\n",
        "    },\n",
        "    outputs=pred\n",
        ")\n",
        "model_9.summary()"
      ],
      "metadata": {
        "id": "HZpilJFhacQ4"
      },
      "execution_count": null,
      "outputs": []
    },
    {
      "cell_type": "code",
      "source": [
        "model_9.compile(\n",
        "    loss='BinaryCrossentropy',\n",
        "    optimizer = Adam(),\n",
        "    metrics=['AUC']\n",
        ")"
      ],
      "metadata": {
        "id": "JIS0lemeapMv"
      },
      "execution_count": null,
      "outputs": []
    },
    {
      "cell_type": "code",
      "source": [
        "import math\n",
        "from keras.callbacks import ModelCheckpoint, EarlyStopping\n",
        "\n",
        "batch_size = 64\n",
        "num_batchs = math.ceil(len(training_set) / batch_size)\n",
        "num_batchs_validation = math.ceil(len(training_set) / batch_size)\n",
        "\n",
        "early_stopping = EarlyStopping(monitor='val_auc', patience=5, mode = 'max')\n",
        "\n",
        "history_9 = model_9.fit(\n",
        "    gen_batch(\n",
        "        training_set, batch_size=batch_size, repeat=True\n",
        "    ),\n",
        "    steps_per_epoch=num_batchs,\n",
        "    epochs=20,\n",
        "    validation_data=gen_batch(\n",
        "        validation_set, batch_size=batch_size, repeat=True\n",
        "    ),\n",
        "    validation_steps=num_batchs_validation,\n",
        "    callbacks=[early_stopping]\n",
        ")"
      ],
      "metadata": {
        "id": "eDA6gowUaqUu"
      },
      "execution_count": null,
      "outputs": []
    },
    {
      "cell_type": "code",
      "source": [
        "y_pred_9 = model_9.predict(\n",
        "    gen_batch(testing_set, batch_size=64, shuffle=False)\n",
        ")\n",
        "print(y_pred_9.shape)\n",
        "y_pred_9 = np.reshape(y_pred_9, -1)"
      ],
      "metadata": {
        "id": "kzVFB5DNatw7"
      },
      "execution_count": null,
      "outputs": []
    },
    {
      "cell_type": "code",
      "source": [
        "# summarize history for AUC Score\n",
        "plt.plot(history_9.history['auc'])\n",
        "plt.plot(history_9.history['val_auc'])\n",
        "plt.title('Model AUC')\n",
        "plt.ylabel('AUC')\n",
        "plt.xlabel('Epoch')\n",
        "plt.legend(['Train', 'Validation'], loc='upper left')\n",
        "plt.show()"
      ],
      "metadata": {
        "id": "srV_CeHeaw5F"
      },
      "execution_count": null,
      "outputs": []
    },
    {
      "cell_type": "code",
      "source": [
        "# summarize history for loss\n",
        "plt.plot(history_9.history['loss'])\n",
        "plt.plot(history_9.history['val_loss'])\n",
        "plt.title('model loss')\n",
        "plt.ylabel('loss')\n",
        "plt.xlabel('epoch')\n",
        "plt.legend(['Train', 'Validation'], loc='upper left')\n",
        "plt.show()"
      ],
      "metadata": {
        "id": "Kib4DwS4az27"
      },
      "execution_count": null,
      "outputs": []
    },
    {
      "cell_type": "code",
      "source": [
        "# define function to save the csv file of the result after each trial\n",
        "import pandas as pd \n",
        "submission = pd.DataFrame({'label':y_pred})\n",
        "submission.index.name = 'id'\n",
        "submission.to_csv('trial_9.csv')"
      ],
      "metadata": {
        "id": "GoN9Jnc2aFir"
      },
      "execution_count": null,
      "outputs": []
    },
    {
      "cell_type": "markdown",
      "source": [
        "### III.IV.III) Trial #10"
      ],
      "metadata": {
        "id": "NAcyewZ8ieZ1"
      }
    },
    {
      "cell_type": "markdown",
      "source": [
        "#### ▶ In **Trial #10**: \n",
        "* We will use **RELU** activation function in **dense_intermediate_layer_activation** parameter."
      ],
      "metadata": {
        "id": "4iNMiMX71uL6"
      }
    },
    {
      "cell_type": "code",
      "source": [
        "from tf2_gnn.layers.gnn import GNN, GNNInput\n",
        "\n",
        "keras.backend.clear_session()\n",
        "\n",
        "data = keras.Input(batch_shape=(None,))\n",
        "\n",
        "# the first dim is different to the previous one. it is the total number of edges in this batch\n",
        "edge = keras.Input(batch_shape=(None, 2), dtype=tf.int32)\n",
        "node2graph = keras.Input(batch_shape=(None,), dtype=tf.int32)\n",
        "embeded = Embedding(tokenizer.num_words, 20)(data)\n",
        "\n",
        "# number of graphs (number of samples)\n",
        "num_graph = tf.reduce_max(node2graph)+1\n",
        "\n",
        "gnn_input = GNNInput(\n",
        "    node_features=embeded,\n",
        "    adjacency_lists=(edge,),\n",
        "    node_to_graph_map=node2graph, \n",
        "    num_graphs=num_graph,\n",
        ")\n",
        "\n",
        "# https://github.com/microsoft/tf2-gnn/blob/master/tf2_gnn/layers/gnn.py\n",
        "params = GNN.get_default_hyperparameters()\n",
        "params[\"hidden_dim\"] ,params['message_calculation_class'], params['dense_intermediate_layer_activation'], params['num_layers'] = 64, 'RGAT', 'relu', 8\n",
        "\n",
        "gnn_layer = GNN(params)\n",
        "gnn_out = gnn_layer(gnn_input)\n",
        "\n",
        "print('gnn_out', gnn_out)\n",
        "\n",
        "# https://www.tensorflow.org/api_docs/python/tf/math/segment_mean\n",
        "avg = segment_mean(\n",
        "    data=gnn_out,\n",
        "    segment_ids=node2graph\n",
        ")\n",
        "print('mean:', avg)\n",
        "\n",
        "Denlay = Dense(32, activation='relu')(avg)\n",
        "pred = Dense(1, activation='sigmoid')(Denlay)\n",
        "print('pred:', pred)\n",
        "\n",
        "model_10 = Model(\n",
        "    inputs={\n",
        "        'data': data,\n",
        "        'edges': edge,\n",
        "        'node2grah': node2graph,\n",
        "    },\n",
        "    outputs=pred\n",
        ")\n",
        "model_10.summary()"
      ],
      "metadata": {
        "id": "BRKhN0fUy4i6"
      },
      "execution_count": null,
      "outputs": []
    },
    {
      "cell_type": "code",
      "source": [
        "model_10.compile(\n",
        "    loss='BinaryCrossentropy',\n",
        "    optimizer = Adam(),\n",
        "    metrics=['AUC']\n",
        ")"
      ],
      "metadata": {
        "id": "ZN_ypzaHy-Ox"
      },
      "execution_count": null,
      "outputs": []
    },
    {
      "cell_type": "code",
      "source": [
        "import math\n",
        "from keras.callbacks import ModelCheckpoint, EarlyStopping\n",
        "\n",
        "batch_size = 64\n",
        "num_batchs = math.ceil(len(training_set) / batch_size)\n",
        "num_batchs_validation = math.ceil(len(training_set) / batch_size)\n",
        "\n",
        "early_stopping = EarlyStopping(monitor='val_auc', patience=5, mode = 'max')\n",
        "\n",
        "history_10 = model_10.fit(\n",
        "    gen_batch(\n",
        "        training_set, batch_size=batch_size, repeat=True\n",
        "    ),\n",
        "    steps_per_epoch=num_batchs,\n",
        "    epochs=20,\n",
        "    validation_data=gen_batch(\n",
        "        validation_set, batch_size=batch_size, repeat=True\n",
        "    ),\n",
        "    validation_steps=num_batchs_validation,\n",
        "    callbacks=[early_stopping]\n",
        ")"
      ],
      "metadata": {
        "id": "eRN-RqewzG8D"
      },
      "execution_count": null,
      "outputs": []
    },
    {
      "cell_type": "code",
      "source": [
        "y_pred_10 = model_10.predict(\n",
        "    gen_batch(testing_set, batch_size=64, shuffle=False)\n",
        ")\n",
        "print(y_pred_10.shape)\n",
        "y_pred_10 = np.reshape(y_pred_10, -1)"
      ],
      "metadata": {
        "id": "YcXqfP0QzQQb"
      },
      "execution_count": null,
      "outputs": []
    },
    {
      "cell_type": "code",
      "source": [
        "# summarize history for AUC Score\n",
        "plt.plot(history_10.history['auc'])\n",
        "plt.plot(history_10.history['val_auc'])\n",
        "plt.title('Model AUC')\n",
        "plt.ylabel('AUC')\n",
        "plt.xlabel('Epoch')\n",
        "plt.legend(['Train', 'Validation'], loc='upper left')\n",
        "plt.show()"
      ],
      "metadata": {
        "id": "2lmxmX38zeOA"
      },
      "execution_count": null,
      "outputs": []
    },
    {
      "cell_type": "code",
      "source": [
        "# summarize history for loss\n",
        "plt.plot(history_10.history['loss'])\n",
        "plt.plot(history_10.history['val_loss'])\n",
        "plt.title('model loss')\n",
        "plt.ylabel('loss')\n",
        "plt.xlabel('epoch')\n",
        "plt.legend(['Train', 'Validation'], loc='upper left')\n",
        "plt.show()"
      ],
      "metadata": {
        "id": "hvYe3nabzhUu"
      },
      "execution_count": null,
      "outputs": []
    },
    {
      "cell_type": "code",
      "source": [
        "# define function to save the csv file of the result after each trial\n",
        "import pandas as pd \n",
        "submission = pd.DataFrame({'label':y_pred})\n",
        "submission.index.name = 'id'\n",
        "submission.to_csv('trial_10.csv')"
      ],
      "metadata": {
        "id": "TpyOWM2PaJIV"
      },
      "execution_count": null,
      "outputs": []
    },
    {
      "cell_type": "markdown",
      "source": [
        "#### ⚫ **OBSERVATION:**\n",
        "\n",
        "\n",
        "* Overall, we notice that using **RGAT** model made the **AUC** Score is **81.72%** which is much better than using **GGNN** but using **RGCN** still is the most accurate model with this type of dataset."
      ],
      "metadata": {
        "id": "7u_dQmoJ15H3"
      }
    },
    {
      "cell_type": "markdown",
      "source": [
        "## III.V) Using GNN-FILM Message-Passing Mechanism\n"
      ],
      "metadata": {
        "id": "So8Aa8FAieeK"
      }
    },
    {
      "cell_type": "markdown",
      "source": [
        "⭐ In the next trial we will use **GNN-FILM** Message-Passing Mechanism. **GNN-FILM** mechanism modulates the weight matrix based on the node's own features, allowing for more flexible and adaptive updates.\n",
        "\n",
        "⭐ The **GNN-FILM** mechanism has been shown to improve the performance of graph neural networks on various tasks, including node classification and link prediction. It allows for more expressive and adaptive updates to the node activations, allowing the model to better capture the complex relationships between nodes in a graph."
      ],
      "metadata": {
        "id": "KAVrJNhu4SI9"
      }
    },
    {
      "cell_type": "markdown",
      "source": [
        "### III.V.I) Trial #11"
      ],
      "metadata": {
        "id": "ZkZ86_VSizs-"
      }
    },
    {
      "cell_type": "code",
      "source": [
        "from tf2_gnn.layers.gnn import GNN, GNNInput\n",
        "\n",
        "keras.backend.clear_session()\n",
        "\n",
        "data = keras.Input(batch_shape=(None,))\n",
        "\n",
        "# the first dim is different to the previous one. it is the total number of edges in this batch\n",
        "edge = keras.Input(batch_shape=(None, 2), dtype=tf.int32)\n",
        "node2graph = keras.Input(batch_shape=(None,), dtype=tf.int32)\n",
        "embeded = Embedding(tokenizer.num_words, 20)(data)\n",
        "\n",
        "# number of graphs (number of samples)\n",
        "num_graph = tf.reduce_max(node2graph)+1\n",
        "\n",
        "gnn_input = GNNInput(\n",
        "    node_features=embeded,\n",
        "    adjacency_lists=(edge,),\n",
        "    node_to_graph_map=node2graph, \n",
        "    num_graphs=num_graph,\n",
        ")\n",
        "\n",
        "# https://github.com/microsoft/tf2-gnn/blob/master/tf2_gnn/layers/gnn.py\n",
        "params = GNN.get_default_hyperparameters()\n",
        "params[\"hidden_dim\"] ,params['message_calculation_class'], params['dense_intermediate_layer_activation'], params['num_layers'] = 64, 'GNN-FILM', 'tanh', 8\n",
        "\n",
        "gnn_layer = GNN(params)\n",
        "gnn_out = gnn_layer(gnn_input)\n",
        "\n",
        "print('gnn_out', gnn_out)\n",
        "\n",
        "# https://www.tensorflow.org/api_docs/python/tf/math/segment_mean\n",
        "avg = segment_mean(\n",
        "    data=gnn_out,\n",
        "    segment_ids=node2graph\n",
        ")\n",
        "print('mean:', avg)\n",
        "\n",
        "Denlay = Dense(32, activation='relu')(avg)\n",
        "pred = Dense(1, activation='sigmoid')(Denlay)\n",
        "print('pred:', pred)\n",
        "\n",
        "model_11 = Model(\n",
        "    inputs={\n",
        "        'data': data,\n",
        "        'edges': edge,\n",
        "        'node2grah': node2graph,\n",
        "    },\n",
        "    outputs=pred\n",
        ")\n",
        "model_11.summary()"
      ],
      "metadata": {
        "id": "YEeZg45q0AUg"
      },
      "execution_count": null,
      "outputs": []
    },
    {
      "cell_type": "code",
      "source": [
        "model_11.compile(\n",
        "    loss='BinaryCrossentropy',\n",
        "    optimizer = Adam(),\n",
        "    metrics=['AUC']\n",
        ")"
      ],
      "metadata": {
        "id": "VaCVNDmr0TRZ"
      },
      "execution_count": null,
      "outputs": []
    },
    {
      "cell_type": "code",
      "source": [
        "import math\n",
        "from keras.callbacks import ModelCheckpoint, EarlyStopping\n",
        "\n",
        "batch_size = 64\n",
        "num_batchs = math.ceil(len(training_set) / batch_size)\n",
        "num_batchs_validation = math.ceil(len(training_set) / batch_size)\n",
        "\n",
        "early_stopping = EarlyStopping(monitor='val_auc', patience=5, mode = 'max')\n",
        "\n",
        "history_11 = model_11.fit(\n",
        "    gen_batch(\n",
        "        training_set, batch_size=batch_size, repeat=True\n",
        "    ),\n",
        "    steps_per_epoch=num_batchs,\n",
        "    epochs=20,\n",
        "    validation_data=gen_batch(\n",
        "        validation_set, batch_size=batch_size, repeat=True\n",
        "    ),\n",
        "    validation_steps=num_batchs_validation,\n",
        "    callbacks=[early_stopping]\n",
        ")"
      ],
      "metadata": {
        "id": "d22xWDLt0VzS"
      },
      "execution_count": null,
      "outputs": []
    },
    {
      "cell_type": "code",
      "source": [
        "y_pred_11 = model_11.predict(\n",
        "    gen_batch(testing_set, batch_size=64, shuffle=False)\n",
        ")\n",
        "print(y_pred_11.shape)\n",
        "y_pred_11 = np.reshape(y_pred_11, -1)"
      ],
      "metadata": {
        "id": "oKDmBGCB0bZE"
      },
      "execution_count": null,
      "outputs": []
    },
    {
      "cell_type": "code",
      "source": [
        "# summarize history for AUC Score\n",
        "plt.plot(history_11.history['auc'])\n",
        "plt.plot(history_11.history['val_auc'])\n",
        "plt.title('Model AUC')\n",
        "plt.ylabel('AUC')\n",
        "plt.xlabel('Epoch')\n",
        "plt.legend(['Train', 'Validation'], loc='upper left')\n",
        "plt.show()"
      ],
      "metadata": {
        "id": "jvYzojT20kZ6"
      },
      "execution_count": null,
      "outputs": []
    },
    {
      "cell_type": "code",
      "source": [
        "# summarize history for loss\n",
        "plt.plot(history_11.history['loss'])\n",
        "plt.plot(history_11.history['val_loss'])\n",
        "plt.title('model loss')\n",
        "plt.ylabel('loss')\n",
        "plt.xlabel('epoch')\n",
        "plt.legend(['Train', 'Validation'], loc='upper left')\n",
        "plt.show()"
      ],
      "metadata": {
        "id": "EmG0DV810pZz"
      },
      "execution_count": null,
      "outputs": []
    },
    {
      "cell_type": "code",
      "source": [
        "# define function to save the csv file of the result after each trial\n",
        "import pandas as pd \n",
        "submission = pd.DataFrame({'label':y_pred})\n",
        "submission.index.name = 'id'\n",
        "submission.to_csv('trial_11.csv')"
      ],
      "metadata": {
        "id": "zzgfBrF1hVL4"
      },
      "execution_count": null,
      "outputs": []
    },
    {
      "cell_type": "markdown",
      "source": [
        "#### ⚫ **OBSERVATION:**\n",
        "\n",
        "\n",
        "* Overall, we notice that using **RGCN** model is much better than using **GGNN**, **RGAT** and **GNN-FILM** with this type of dataset."
      ],
      "metadata": {
        "id": "2fe5csih03sw"
      }
    },
    {
      "cell_type": "markdown",
      "source": [
        "\n",
        "\n",
        "---\n",
        "\n",
        "\n",
        "\n",
        "---\n",
        "\n"
      ],
      "metadata": {
        "id": "hIta9vx86f5f"
      }
    },
    {
      "cell_type": "markdown",
      "source": [
        "# Part IV) Answering the Questions 😃"
      ],
      "metadata": {
        "id": "xKE5U2Ut6L1K"
      }
    },
    {
      "cell_type": "markdown",
      "source": [
        "## 🌈 **Q1:** Based on the provided template, describe the format of the input file (sdf file).\n",
        "\n",
        "☘️ In general, The SDF (Structure Data File) format is a standard file format used for storing and exchanging information about chemical structures. SDF files are commonly used in the field of drug discovery and chemistry to store information about molecular structures and properties.\n",
        "\n",
        "☘️ The SDF file format is a plain text format that consists of a series of records, with each record containing information about a single molecule. The records are separated by blank lines, and each record consists of a series of lines that describe different aspects of the molecule.\n",
        "\n",
        "👉🏻 In the Anti-Cancer Drug Activity Prediction task, the input file format is an SDF (Structure Data File) format that contains information about the molecular structures and features of different chemical compounds. Specifically, the SDF file format includes the following information:\n",
        "\n",
        "⭐ The molecular structure of each compound, represented by a series of atoms and bonds.\n",
        "\n",
        "⭐ A set of molecular fingerprints or features, which are binary values that represent the presence or absence of certain chemical substructures or properties in the compound.\n",
        "\n",
        "⭐ A label indicating the activity of the compound against a specific type of cancer or multiple types of cancer. The label can either be a binary value (active or inactive) or a continuous value (IC50 value), depending on the specific task."
      ],
      "metadata": {
        "id": "MiNlGyEM6ipk"
      }
    },
    {
      "cell_type": "markdown",
      "source": [
        "\n",
        "\n",
        "---\n",
        "\n",
        "\n",
        "\n",
        "---\n",
        "\n"
      ],
      "metadata": {
        "id": "FfErND8kHpYN"
      }
    },
    {
      "cell_type": "markdown",
      "source": [
        "## 🌈 **Q2:** What are the input tensors to the neural network model (their meaning, not just symbol)? What is each of their dims and their meaning (e.g. batch_size)?\n",
        "\n",
        "🔥 **Batch_Size**: refers to the number of training examples used in a single iteration of the training process. It is a hyperparameter that defines the number of samples that are processed before the model's parameters are updated based on the gradients of the loss function. The dimension of the batch_size is **1D**.\n",
        "\n",
        "\n",
        "🔥 **input_1:** An input layer that takes a **1D** tensor of integer values as input. This input represents the node features of the graph and has a shape of **(None,)**, where None indicates that the input can have variable length.\n",
        "\n",
        "🔥 **input_2**: An input layer that takes a **2D** tensor of integer values as input. This input represents the edge indices of the graph and has a shape of **(None, 2)**, where None indicates that the input can have variable length and 2 indicates that each edge index is represented as a pair of integers.\n",
        "\n",
        "🔥 **input_3**: An input layer that takes a **1D** tensor of integer values as input. This input represents the graph indices to which each node belongs and has a shape of **(None,)**, where None indicates that the input can have variable length.\n"
      ],
      "metadata": {
        "id": "OoTsAZo8ASaW"
      }
    },
    {
      "cell_type": "markdown",
      "source": [
        "\n",
        "\n",
        "---\n",
        "\n",
        "\n",
        "\n",
        "---\n",
        "\n"
      ],
      "metadata": {
        "id": "-VnMOJ_vHnnF"
      }
    },
    {
      "cell_type": "markdown",
      "source": [
        "## 🌈 **Q3:** For each dim of gnn_out, what does it symbolize? For each dim of avg, what does it symbolize?\n",
        "\n",
        "☘️ The gnn out has the shape (batch_size*max_nodes_per_graph,hidden_dim), the first dim here represents the number of features for each node (node2graph), where the hidden_dim here is the size of the output of all message passing layers.\n",
        "\n",
        "☘️ avg: The output of gnn_out is(batch_size*max_nodes_per_graph, hidden layers) for each sample in the batch size. Each sample is assigned a unique segment_id. As a result, segment_mean takes the average of all the data in the gnn_out output and represents one sample with one integer for each hidden layer. The average tensor's final output is of the form (batch_size, hidden_dim). It is a method of gathering information for each sample and portraying it as mean data."
      ],
      "metadata": {
        "id": "576HmMk9E5JB"
      }
    },
    {
      "cell_type": "markdown",
      "source": [
        "\n",
        "\n",
        "---\n",
        "\n",
        "\n",
        "\n",
        "---\n",
        "\n"
      ],
      "metadata": {
        "id": "2JtoNyeHHl0s"
      }
    },
    {
      "cell_type": "markdown",
      "source": [
        "## 🌈 **Q4:** What is the difference between segment_mean and tf.reduce_mean? For each dim of pred, what does it symbolize?\n",
        "\n",
        "👉🏻 Both tf.math.segment_mean and tf.reduce_mean are TensorFlow functions for computing the mean of a tensor along a specific axis. However, they differ in how they handle tensors that have segments or groups.\n",
        "\n",
        "⭐ **tf.reduce_mean** computes the mean of the entire tensor along a specific axis, without considering any segmentation or grouping. For example, **tf.reduce_mean(x, axis=0)** would compute the mean of x along the first dimension, without considering any segments or groups.\n",
        "\n",
        "⭐ **tf.math.segment_mean,** on the other hand, computes the mean of each segment or group along a specific axis. It expects an additional tensor segment_ids that specifies the segment or group to which each element in the input tensor belongs. For example, **tf.math.segment_mean(x, segment_ids, axis=0)** would compute the mean of each segment in x along the first dimension, where the segments are defined by the corresponding values in segment_ids.\n",
        "\n"
      ],
      "metadata": {
        "id": "5718qYGqFVjI"
      }
    },
    {
      "cell_type": "markdown",
      "source": [
        "\n",
        "\n",
        "---\n",
        "\n",
        "\n",
        "\n",
        "---\n",
        "\n"
      ],
      "metadata": {
        "id": "SOBkfx5KHj6u"
      }
    },
    {
      "cell_type": "markdown",
      "source": [
        "## 🌈 **Q5:** What is the motivation/theory/idea to use multiple gcn layers comparing to just one? How many layers were used in the template?\n",
        "\n",
        "⭐ In a single GCN layer, the model applies a graph convolution operation to the node features in the input graph, which produces a new set of node features that incorporate information from the neighboring nodes in the graph. However, this operation only captures local dependencies and may not fully capture the global structure of the graph.\n",
        "\n",
        "⭐ By stacking multiple GCN layers, the model can learn more complex representations of the input graph by recursively combining the features learned in the previous layer with the updated node features from the current layer. This allows the model to capture both local and global dependencies in the graph, and learn hierarchical representations that can be used for downstream tasks such as node classification or graph classification.\n",
        "\n",
        "👉🏻 The number of layers used in the template was the default number which is **4 layers.**"
      ],
      "metadata": {
        "id": "FrV2_D8nHH2Q"
      }
    }
  ],
  "metadata": {
    "kernelspec": {
      "display_name": "Python 3 (ipykernel)",
      "language": "python",
      "name": "python3"
    },
    "language_info": {
      "codemirror_mode": {
        "name": "ipython",
        "version": 3
      },
      "file_extension": ".py",
      "mimetype": "text/x-python",
      "name": "python",
      "nbconvert_exporter": "python",
      "pygments_lexer": "ipython3",
      "version": "3.8.12"
    },
    "colab": {
      "provenance": [],
      "toc_visible": true
    },
    "widgets": {
      "application/vnd.jupyter.widget-state+json": {
        "e620726b373148f6b863427b442c9372": {
          "model_module": "@jupyter-widgets/controls",
          "model_name": "HBoxModel",
          "model_module_version": "1.5.0",
          "state": {
            "_dom_classes": [],
            "_model_module": "@jupyter-widgets/controls",
            "_model_module_version": "1.5.0",
            "_model_name": "HBoxModel",
            "_view_count": null,
            "_view_module": "@jupyter-widgets/controls",
            "_view_module_version": "1.5.0",
            "_view_name": "HBoxView",
            "box_style": "",
            "children": [
              "IPY_MODEL_773718cd7f3e43dd8ebde3db693a6e8c",
              "IPY_MODEL_59566e40bfa24ddc966b04664bca466f",
              "IPY_MODEL_36ae55c76d0e4c0fb5d0995dfd511c78"
            ],
            "layout": "IPY_MODEL_eb4c719e5a374af580ada7148bd6280b"
          }
        },
        "773718cd7f3e43dd8ebde3db693a6e8c": {
          "model_module": "@jupyter-widgets/controls",
          "model_name": "HTMLModel",
          "model_module_version": "1.5.0",
          "state": {
            "_dom_classes": [],
            "_model_module": "@jupyter-widgets/controls",
            "_model_module_version": "1.5.0",
            "_model_name": "HTMLModel",
            "_view_count": null,
            "_view_module": "@jupyter-widgets/controls",
            "_view_module_version": "1.5.0",
            "_view_name": "HTMLView",
            "description": "",
            "description_tooltip": null,
            "layout": "IPY_MODEL_a6f629b6b1f24fe08fc653a87e934aaa",
            "placeholder": "​",
            "style": "IPY_MODEL_b3ede5c0c1cc4af0871f4bbb24adc067",
            "value": "100%"
          }
        },
        "59566e40bfa24ddc966b04664bca466f": {
          "model_module": "@jupyter-widgets/controls",
          "model_name": "FloatProgressModel",
          "model_module_version": "1.5.0",
          "state": {
            "_dom_classes": [],
            "_model_module": "@jupyter-widgets/controls",
            "_model_module_version": "1.5.0",
            "_model_name": "FloatProgressModel",
            "_view_count": null,
            "_view_module": "@jupyter-widgets/controls",
            "_view_module_version": "1.5.0",
            "_view_name": "ProgressView",
            "bar_style": "success",
            "description": "",
            "description_tooltip": null,
            "layout": "IPY_MODEL_59c1fcf79285449c87c679a2be58269e",
            "max": 25024,
            "min": 0,
            "orientation": "horizontal",
            "style": "IPY_MODEL_7d9112d90fdf42f290b57daae0f17125",
            "value": 25024
          }
        },
        "36ae55c76d0e4c0fb5d0995dfd511c78": {
          "model_module": "@jupyter-widgets/controls",
          "model_name": "HTMLModel",
          "model_module_version": "1.5.0",
          "state": {
            "_dom_classes": [],
            "_model_module": "@jupyter-widgets/controls",
            "_model_module_version": "1.5.0",
            "_model_name": "HTMLModel",
            "_view_count": null,
            "_view_module": "@jupyter-widgets/controls",
            "_view_module_version": "1.5.0",
            "_view_name": "HTMLView",
            "description": "",
            "description_tooltip": null,
            "layout": "IPY_MODEL_70bc67da8f6649ea93801407f33108b0",
            "placeholder": "​",
            "style": "IPY_MODEL_0da7d776d30f463bb6315322b8a1f95d",
            "value": " 25024/25024 [00:01&lt;00:00, 16146.92it/s]"
          }
        },
        "eb4c719e5a374af580ada7148bd6280b": {
          "model_module": "@jupyter-widgets/base",
          "model_name": "LayoutModel",
          "model_module_version": "1.2.0",
          "state": {
            "_model_module": "@jupyter-widgets/base",
            "_model_module_version": "1.2.0",
            "_model_name": "LayoutModel",
            "_view_count": null,
            "_view_module": "@jupyter-widgets/base",
            "_view_module_version": "1.2.0",
            "_view_name": "LayoutView",
            "align_content": null,
            "align_items": null,
            "align_self": null,
            "border": null,
            "bottom": null,
            "display": null,
            "flex": null,
            "flex_flow": null,
            "grid_area": null,
            "grid_auto_columns": null,
            "grid_auto_flow": null,
            "grid_auto_rows": null,
            "grid_column": null,
            "grid_gap": null,
            "grid_row": null,
            "grid_template_areas": null,
            "grid_template_columns": null,
            "grid_template_rows": null,
            "height": null,
            "justify_content": null,
            "justify_items": null,
            "left": null,
            "margin": null,
            "max_height": null,
            "max_width": null,
            "min_height": null,
            "min_width": null,
            "object_fit": null,
            "object_position": null,
            "order": null,
            "overflow": null,
            "overflow_x": null,
            "overflow_y": null,
            "padding": null,
            "right": null,
            "top": null,
            "visibility": null,
            "width": null
          }
        },
        "a6f629b6b1f24fe08fc653a87e934aaa": {
          "model_module": "@jupyter-widgets/base",
          "model_name": "LayoutModel",
          "model_module_version": "1.2.0",
          "state": {
            "_model_module": "@jupyter-widgets/base",
            "_model_module_version": "1.2.0",
            "_model_name": "LayoutModel",
            "_view_count": null,
            "_view_module": "@jupyter-widgets/base",
            "_view_module_version": "1.2.0",
            "_view_name": "LayoutView",
            "align_content": null,
            "align_items": null,
            "align_self": null,
            "border": null,
            "bottom": null,
            "display": null,
            "flex": null,
            "flex_flow": null,
            "grid_area": null,
            "grid_auto_columns": null,
            "grid_auto_flow": null,
            "grid_auto_rows": null,
            "grid_column": null,
            "grid_gap": null,
            "grid_row": null,
            "grid_template_areas": null,
            "grid_template_columns": null,
            "grid_template_rows": null,
            "height": null,
            "justify_content": null,
            "justify_items": null,
            "left": null,
            "margin": null,
            "max_height": null,
            "max_width": null,
            "min_height": null,
            "min_width": null,
            "object_fit": null,
            "object_position": null,
            "order": null,
            "overflow": null,
            "overflow_x": null,
            "overflow_y": null,
            "padding": null,
            "right": null,
            "top": null,
            "visibility": null,
            "width": null
          }
        },
        "b3ede5c0c1cc4af0871f4bbb24adc067": {
          "model_module": "@jupyter-widgets/controls",
          "model_name": "DescriptionStyleModel",
          "model_module_version": "1.5.0",
          "state": {
            "_model_module": "@jupyter-widgets/controls",
            "_model_module_version": "1.5.0",
            "_model_name": "DescriptionStyleModel",
            "_view_count": null,
            "_view_module": "@jupyter-widgets/base",
            "_view_module_version": "1.2.0",
            "_view_name": "StyleView",
            "description_width": ""
          }
        },
        "59c1fcf79285449c87c679a2be58269e": {
          "model_module": "@jupyter-widgets/base",
          "model_name": "LayoutModel",
          "model_module_version": "1.2.0",
          "state": {
            "_model_module": "@jupyter-widgets/base",
            "_model_module_version": "1.2.0",
            "_model_name": "LayoutModel",
            "_view_count": null,
            "_view_module": "@jupyter-widgets/base",
            "_view_module_version": "1.2.0",
            "_view_name": "LayoutView",
            "align_content": null,
            "align_items": null,
            "align_self": null,
            "border": null,
            "bottom": null,
            "display": null,
            "flex": null,
            "flex_flow": null,
            "grid_area": null,
            "grid_auto_columns": null,
            "grid_auto_flow": null,
            "grid_auto_rows": null,
            "grid_column": null,
            "grid_gap": null,
            "grid_row": null,
            "grid_template_areas": null,
            "grid_template_columns": null,
            "grid_template_rows": null,
            "height": null,
            "justify_content": null,
            "justify_items": null,
            "left": null,
            "margin": null,
            "max_height": null,
            "max_width": null,
            "min_height": null,
            "min_width": null,
            "object_fit": null,
            "object_position": null,
            "order": null,
            "overflow": null,
            "overflow_x": null,
            "overflow_y": null,
            "padding": null,
            "right": null,
            "top": null,
            "visibility": null,
            "width": null
          }
        },
        "7d9112d90fdf42f290b57daae0f17125": {
          "model_module": "@jupyter-widgets/controls",
          "model_name": "ProgressStyleModel",
          "model_module_version": "1.5.0",
          "state": {
            "_model_module": "@jupyter-widgets/controls",
            "_model_module_version": "1.5.0",
            "_model_name": "ProgressStyleModel",
            "_view_count": null,
            "_view_module": "@jupyter-widgets/base",
            "_view_module_version": "1.2.0",
            "_view_name": "StyleView",
            "bar_color": null,
            "description_width": ""
          }
        },
        "70bc67da8f6649ea93801407f33108b0": {
          "model_module": "@jupyter-widgets/base",
          "model_name": "LayoutModel",
          "model_module_version": "1.2.0",
          "state": {
            "_model_module": "@jupyter-widgets/base",
            "_model_module_version": "1.2.0",
            "_model_name": "LayoutModel",
            "_view_count": null,
            "_view_module": "@jupyter-widgets/base",
            "_view_module_version": "1.2.0",
            "_view_name": "LayoutView",
            "align_content": null,
            "align_items": null,
            "align_self": null,
            "border": null,
            "bottom": null,
            "display": null,
            "flex": null,
            "flex_flow": null,
            "grid_area": null,
            "grid_auto_columns": null,
            "grid_auto_flow": null,
            "grid_auto_rows": null,
            "grid_column": null,
            "grid_gap": null,
            "grid_row": null,
            "grid_template_areas": null,
            "grid_template_columns": null,
            "grid_template_rows": null,
            "height": null,
            "justify_content": null,
            "justify_items": null,
            "left": null,
            "margin": null,
            "max_height": null,
            "max_width": null,
            "min_height": null,
            "min_width": null,
            "object_fit": null,
            "object_position": null,
            "order": null,
            "overflow": null,
            "overflow_x": null,
            "overflow_y": null,
            "padding": null,
            "right": null,
            "top": null,
            "visibility": null,
            "width": null
          }
        },
        "0da7d776d30f463bb6315322b8a1f95d": {
          "model_module": "@jupyter-widgets/controls",
          "model_name": "DescriptionStyleModel",
          "model_module_version": "1.5.0",
          "state": {
            "_model_module": "@jupyter-widgets/controls",
            "_model_module_version": "1.5.0",
            "_model_name": "DescriptionStyleModel",
            "_view_count": null,
            "_view_module": "@jupyter-widgets/base",
            "_view_module_version": "1.2.0",
            "_view_name": "StyleView",
            "description_width": ""
          }
        },
        "c0cf1edb637e41a8a64b01387df97e72": {
          "model_module": "@jupyter-widgets/controls",
          "model_name": "HBoxModel",
          "model_module_version": "1.5.0",
          "state": {
            "_dom_classes": [],
            "_model_module": "@jupyter-widgets/controls",
            "_model_module_version": "1.5.0",
            "_model_name": "HBoxModel",
            "_view_count": null,
            "_view_module": "@jupyter-widgets/controls",
            "_view_module_version": "1.5.0",
            "_view_name": "HBoxView",
            "box_style": "",
            "children": [
              "IPY_MODEL_c96331b19ca74601bd4ed5da7a6b2470",
              "IPY_MODEL_e42ed47c731c4468ad1901b5ab55516a",
              "IPY_MODEL_468cf41a5fd14ebcacbeefdd9e1092a1"
            ],
            "layout": "IPY_MODEL_a49950fc9aa84515aa377d7827121087"
          }
        },
        "c96331b19ca74601bd4ed5da7a6b2470": {
          "model_module": "@jupyter-widgets/controls",
          "model_name": "HTMLModel",
          "model_module_version": "1.5.0",
          "state": {
            "_dom_classes": [],
            "_model_module": "@jupyter-widgets/controls",
            "_model_module_version": "1.5.0",
            "_model_name": "HTMLModel",
            "_view_count": null,
            "_view_module": "@jupyter-widgets/controls",
            "_view_module_version": "1.5.0",
            "_view_name": "HTMLView",
            "description": "",
            "description_tooltip": null,
            "layout": "IPY_MODEL_2a4152273ba149738b16897685eb210a",
            "placeholder": "​",
            "style": "IPY_MODEL_a627bbb02d7c4bec876e6e364d1080e3",
            "value": "100%"
          }
        },
        "e42ed47c731c4468ad1901b5ab55516a": {
          "model_module": "@jupyter-widgets/controls",
          "model_name": "FloatProgressModel",
          "model_module_version": "1.5.0",
          "state": {
            "_dom_classes": [],
            "_model_module": "@jupyter-widgets/controls",
            "_model_module_version": "1.5.0",
            "_model_name": "FloatProgressModel",
            "_view_count": null,
            "_view_module": "@jupyter-widgets/controls",
            "_view_module_version": "1.5.0",
            "_view_name": "ProgressView",
            "bar_style": "success",
            "description": "",
            "description_tooltip": null,
            "layout": "IPY_MODEL_612fa904a5af4bcd8c34f94b1c77b031",
            "max": 12326,
            "min": 0,
            "orientation": "horizontal",
            "style": "IPY_MODEL_5478d527440f49c7aadd933ca252c3d2",
            "value": 12326
          }
        },
        "468cf41a5fd14ebcacbeefdd9e1092a1": {
          "model_module": "@jupyter-widgets/controls",
          "model_name": "HTMLModel",
          "model_module_version": "1.5.0",
          "state": {
            "_dom_classes": [],
            "_model_module": "@jupyter-widgets/controls",
            "_model_module_version": "1.5.0",
            "_model_name": "HTMLModel",
            "_view_count": null,
            "_view_module": "@jupyter-widgets/controls",
            "_view_module_version": "1.5.0",
            "_view_name": "HTMLView",
            "description": "",
            "description_tooltip": null,
            "layout": "IPY_MODEL_91fbdb41e9cf4bdebc92d10032f96d86",
            "placeholder": "​",
            "style": "IPY_MODEL_570fd41511b044739a893c150560d91a",
            "value": " 12326/12326 [00:01&lt;00:00, 6735.82it/s]"
          }
        },
        "a49950fc9aa84515aa377d7827121087": {
          "model_module": "@jupyter-widgets/base",
          "model_name": "LayoutModel",
          "model_module_version": "1.2.0",
          "state": {
            "_model_module": "@jupyter-widgets/base",
            "_model_module_version": "1.2.0",
            "_model_name": "LayoutModel",
            "_view_count": null,
            "_view_module": "@jupyter-widgets/base",
            "_view_module_version": "1.2.0",
            "_view_name": "LayoutView",
            "align_content": null,
            "align_items": null,
            "align_self": null,
            "border": null,
            "bottom": null,
            "display": null,
            "flex": null,
            "flex_flow": null,
            "grid_area": null,
            "grid_auto_columns": null,
            "grid_auto_flow": null,
            "grid_auto_rows": null,
            "grid_column": null,
            "grid_gap": null,
            "grid_row": null,
            "grid_template_areas": null,
            "grid_template_columns": null,
            "grid_template_rows": null,
            "height": null,
            "justify_content": null,
            "justify_items": null,
            "left": null,
            "margin": null,
            "max_height": null,
            "max_width": null,
            "min_height": null,
            "min_width": null,
            "object_fit": null,
            "object_position": null,
            "order": null,
            "overflow": null,
            "overflow_x": null,
            "overflow_y": null,
            "padding": null,
            "right": null,
            "top": null,
            "visibility": null,
            "width": null
          }
        },
        "2a4152273ba149738b16897685eb210a": {
          "model_module": "@jupyter-widgets/base",
          "model_name": "LayoutModel",
          "model_module_version": "1.2.0",
          "state": {
            "_model_module": "@jupyter-widgets/base",
            "_model_module_version": "1.2.0",
            "_model_name": "LayoutModel",
            "_view_count": null,
            "_view_module": "@jupyter-widgets/base",
            "_view_module_version": "1.2.0",
            "_view_name": "LayoutView",
            "align_content": null,
            "align_items": null,
            "align_self": null,
            "border": null,
            "bottom": null,
            "display": null,
            "flex": null,
            "flex_flow": null,
            "grid_area": null,
            "grid_auto_columns": null,
            "grid_auto_flow": null,
            "grid_auto_rows": null,
            "grid_column": null,
            "grid_gap": null,
            "grid_row": null,
            "grid_template_areas": null,
            "grid_template_columns": null,
            "grid_template_rows": null,
            "height": null,
            "justify_content": null,
            "justify_items": null,
            "left": null,
            "margin": null,
            "max_height": null,
            "max_width": null,
            "min_height": null,
            "min_width": null,
            "object_fit": null,
            "object_position": null,
            "order": null,
            "overflow": null,
            "overflow_x": null,
            "overflow_y": null,
            "padding": null,
            "right": null,
            "top": null,
            "visibility": null,
            "width": null
          }
        },
        "a627bbb02d7c4bec876e6e364d1080e3": {
          "model_module": "@jupyter-widgets/controls",
          "model_name": "DescriptionStyleModel",
          "model_module_version": "1.5.0",
          "state": {
            "_model_module": "@jupyter-widgets/controls",
            "_model_module_version": "1.5.0",
            "_model_name": "DescriptionStyleModel",
            "_view_count": null,
            "_view_module": "@jupyter-widgets/base",
            "_view_module_version": "1.2.0",
            "_view_name": "StyleView",
            "description_width": ""
          }
        },
        "612fa904a5af4bcd8c34f94b1c77b031": {
          "model_module": "@jupyter-widgets/base",
          "model_name": "LayoutModel",
          "model_module_version": "1.2.0",
          "state": {
            "_model_module": "@jupyter-widgets/base",
            "_model_module_version": "1.2.0",
            "_model_name": "LayoutModel",
            "_view_count": null,
            "_view_module": "@jupyter-widgets/base",
            "_view_module_version": "1.2.0",
            "_view_name": "LayoutView",
            "align_content": null,
            "align_items": null,
            "align_self": null,
            "border": null,
            "bottom": null,
            "display": null,
            "flex": null,
            "flex_flow": null,
            "grid_area": null,
            "grid_auto_columns": null,
            "grid_auto_flow": null,
            "grid_auto_rows": null,
            "grid_column": null,
            "grid_gap": null,
            "grid_row": null,
            "grid_template_areas": null,
            "grid_template_columns": null,
            "grid_template_rows": null,
            "height": null,
            "justify_content": null,
            "justify_items": null,
            "left": null,
            "margin": null,
            "max_height": null,
            "max_width": null,
            "min_height": null,
            "min_width": null,
            "object_fit": null,
            "object_position": null,
            "order": null,
            "overflow": null,
            "overflow_x": null,
            "overflow_y": null,
            "padding": null,
            "right": null,
            "top": null,
            "visibility": null,
            "width": null
          }
        },
        "5478d527440f49c7aadd933ca252c3d2": {
          "model_module": "@jupyter-widgets/controls",
          "model_name": "ProgressStyleModel",
          "model_module_version": "1.5.0",
          "state": {
            "_model_module": "@jupyter-widgets/controls",
            "_model_module_version": "1.5.0",
            "_model_name": "ProgressStyleModel",
            "_view_count": null,
            "_view_module": "@jupyter-widgets/base",
            "_view_module_version": "1.2.0",
            "_view_name": "StyleView",
            "bar_color": null,
            "description_width": ""
          }
        },
        "91fbdb41e9cf4bdebc92d10032f96d86": {
          "model_module": "@jupyter-widgets/base",
          "model_name": "LayoutModel",
          "model_module_version": "1.2.0",
          "state": {
            "_model_module": "@jupyter-widgets/base",
            "_model_module_version": "1.2.0",
            "_model_name": "LayoutModel",
            "_view_count": null,
            "_view_module": "@jupyter-widgets/base",
            "_view_module_version": "1.2.0",
            "_view_name": "LayoutView",
            "align_content": null,
            "align_items": null,
            "align_self": null,
            "border": null,
            "bottom": null,
            "display": null,
            "flex": null,
            "flex_flow": null,
            "grid_area": null,
            "grid_auto_columns": null,
            "grid_auto_flow": null,
            "grid_auto_rows": null,
            "grid_column": null,
            "grid_gap": null,
            "grid_row": null,
            "grid_template_areas": null,
            "grid_template_columns": null,
            "grid_template_rows": null,
            "height": null,
            "justify_content": null,
            "justify_items": null,
            "left": null,
            "margin": null,
            "max_height": null,
            "max_width": null,
            "min_height": null,
            "min_width": null,
            "object_fit": null,
            "object_position": null,
            "order": null,
            "overflow": null,
            "overflow_x": null,
            "overflow_y": null,
            "padding": null,
            "right": null,
            "top": null,
            "visibility": null,
            "width": null
          }
        },
        "570fd41511b044739a893c150560d91a": {
          "model_module": "@jupyter-widgets/controls",
          "model_name": "DescriptionStyleModel",
          "model_module_version": "1.5.0",
          "state": {
            "_model_module": "@jupyter-widgets/controls",
            "_model_module_version": "1.5.0",
            "_model_name": "DescriptionStyleModel",
            "_view_count": null,
            "_view_module": "@jupyter-widgets/base",
            "_view_module_version": "1.2.0",
            "_view_name": "StyleView",
            "description_width": ""
          }
        }
      }
    }
  },
  "nbformat": 4,
  "nbformat_minor": 0
}